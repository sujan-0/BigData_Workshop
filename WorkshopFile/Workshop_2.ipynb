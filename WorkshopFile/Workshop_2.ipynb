{
  "nbformat": 4,
  "nbformat_minor": 0,
  "metadata": {
    "colab": {
      "provenance": []
    },
    "kernelspec": {
      "name": "python3",
      "display_name": "Python 3"
    },
    "language_info": {
      "name": "python"
    }
  },
  "cells": [
    {
      "cell_type": "markdown",
      "source": [
        "# Data Preprocessing Lab\n",
        "\n",
        "\n",
        ">To build a proper machine learning model we need clean data. However, almost all the datasets are dirty due to noise, outliers. It is also important to know the data to use the appropriate machine learning algorithm. Thus, in this exercise, we will try to explore the data, clean the data, find\n",
        "insights, and finally train machine learning models.\n",
        "\n",
        "1. There are so many data cleaning techniques, however, we will only focus on the most basic operations\n",
        "\n",
        "2. There are some questions prepared for you to answer. Please double click on those cells and answer them.\n",
        "\n",
        "3. To do this workshop you may use any IDE of your choice such as jupyter notebook, google colab or even VS code. However, it is recommended to avoid using tools that utilizes AI featuers such as auto code generation."
      ],
      "metadata": {
        "id": "8X21xVB2UGrb"
      }
    },
    {
      "cell_type": "markdown",
      "source": [
        "# Datasets Information\n",
        "\n",
        "It is very important to undertand what kind of data we are dealing with before jumping into actual coding. The following things are to be taken into consideration before EDA and Model Training :\n",
        "\n",
        "1. Understanding Data Source & Reliability\n",
        "\n",
        "2. Understanding Features & Their Role\n",
        "\n",
        "3. Ensuring Data Relevance for the Problem\n",
        "\n"
      ],
      "metadata": {
        "id": "34T5DoYZXCff"
      }
    },
    {
      "cell_type": "markdown",
      "source": [
        "## Dataset 1 : **Medical Students**\n",
        "\n",
        "* About Dataset\n",
        "\n",
        "> The dataset can be used for various purposes, including :\n",
        "\n",
        "1. Medical research and analysis to identify patterns, trends, and correlations in patient data.\n",
        "Developing predictive models for diagnosing diseases, predicting treatment outcomes, and identifying at-risk patients.\n",
        "\n",
        "2. Evaluating the effectiveness of different medical interventions and treatment protocols.\n",
        "\n",
        "3. Training machine learning algorithms for medical imaging analysis, disease classification, and patient risk stratification.\n",
        "\n",
        "> The dataset consists of the following columns:\n",
        "\n",
        "*  *StudentID:* Unique identifier for each medical student.\n",
        "\n",
        "*  *Age:* Age of the student in years.\n",
        "\n",
        "* *Gender:* Gender of the student (e.g., Male, Female).\n",
        "\n",
        "* *Height:* Height of the student in cm.\n",
        "\n",
        "* *Weight:* Weight of the student in kg.\n",
        "\n",
        "* *Blood Type:* The student's blood group (e.g., A, B, O).\n",
        "\n",
        "* *BMI:* The Body Mass Index, calculated from height and weight.\n",
        "\n",
        "* *Temperature:* The student's body temperature in degrees Celsius.\n",
        "\n",
        "* *Heart Rate:* The number of heartbeats per minute.\n",
        "\n",
        "* *Blood Pressure:* The student's systolic blood pressure measurement.\n",
        "\n",
        "* *Cholesterol:* The student's cholesterol level in mg/dL.\n",
        "\n",
        "* *Diabetes:* Indicates whether the student has diabetes (Yes/No).\n",
        "\n",
        "* *Smoking* Indicates whether the student is a smoker (Yes/No).\n"
      ],
      "metadata": {
        "id": "nTPMMF30XLLO"
      }
    },
    {
      "cell_type": "code",
      "source": [
        "# Connect Google Drive to Google Colab\n",
        "from google.colab import drive\n",
        "drive.mount('/content/drive')"
      ],
      "metadata": {
        "colab": {
          "base_uri": "https://localhost:8080/",
          "height": 0
        },
        "id": "BPDy1eZ3xDfY",
        "outputId": "e4a5ba8a-1c9a-497b-cbd9-6def00a2bfe9"
      },
      "execution_count": 1,
      "outputs": [
        {
          "output_type": "stream",
          "name": "stdout",
          "text": [
            "Mounted at /content/drive\n"
          ]
        }
      ]
    },
    {
      "cell_type": "markdown",
      "source": [
        "# Part I"
      ],
      "metadata": {
        "id": "t-uAlhw-sJfr"
      }
    },
    {
      "cell_type": "markdown",
      "source": [
        "### 1. Import Necessary Libraries/Dependencies"
      ],
      "metadata": {
        "id": "u4lYwVbgsPQT"
      }
    },
    {
      "cell_type": "markdown",
      "source": [
        "> In the below cell, you are required to import all the necessary dependencies such as pandas, matplotlib as well as seaborn."
      ],
      "metadata": {
        "id": "dundMA7HCsOe"
      }
    },
    {
      "cell_type": "code",
      "source": [
        "# Importing the pandas library, used for data manipulation and analysis\n",
        "import pandas as pd\n",
        "# Importing the numpy library, used for numerical operations and working with arrays\n",
        "import numpy as np\n",
        "# Importing the seaborn library, used for statistical data visualization\n",
        "import seaborn as sns\n",
        "# Importing the pyplot module from matplotlib, used for creating static, interactive, and animated visualizations\n",
        "import matplotlib.pyplot as plt"
      ],
      "metadata": {
        "id": "65jduiHSsVjU"
      },
      "execution_count": 2,
      "outputs": []
    },
    {
      "cell_type": "markdown",
      "source": [
        "### 2. Load our dataset"
      ],
      "metadata": {
        "id": "bkd3N5nLsxaV"
      }
    },
    {
      "cell_type": "markdown",
      "source": [
        "> In the below, cell you are required to load our dataset into a pandas dataframe."
      ],
      "metadata": {
        "id": "kTnT72RvDpnj"
      }
    },
    {
      "cell_type": "code",
      "source": [
        "# Lod the dataset (CSV file)\n",
        "df1 = pd.read_csv(\"/content/drive/MyDrive/BigData/Week 2/Data And Code Outline/sample_medical_students_dataset.csv\")"
      ],
      "metadata": {
        "id": "uuVzHILRsdU8"
      },
      "execution_count": 3,
      "outputs": []
    },
    {
      "cell_type": "markdown",
      "source": [
        "### 3. Data Analysis"
      ],
      "metadata": {
        "id": "RBRZ4XbptBon"
      }
    },
    {
      "cell_type": "markdown",
      "source": [
        "> Print the list feature names of our loaded dataset."
      ],
      "metadata": {
        "id": "JT12B-yFD55M"
      }
    },
    {
      "cell_type": "code",
      "source": [
        "# Get column names of the DataFrame\n",
        "df1.columns"
      ],
      "metadata": {
        "id": "JQyf37cWuWJq",
        "colab": {
          "base_uri": "https://localhost:8080/",
          "height": 0
        },
        "outputId": "6488d4a0-2042-4ee2-ca21-b3ad78b00434"
      },
      "execution_count": 4,
      "outputs": [
        {
          "output_type": "execute_result",
          "data": {
            "text/plain": [
              "Index(['Student ID', 'Age', 'Gender', 'Height', 'Weight', 'Blood Type', 'BMI',\n",
              "       'Temperature', 'Heart Rate', 'Blood Pressure', 'Cholesterol',\n",
              "       'Diabetes', 'Smoking'],\n",
              "      dtype='object')"
            ]
          },
          "metadata": {},
          "execution_count": 4
        }
      ]
    },
    {
      "cell_type": "markdown",
      "source": [
        "> Print the shape of our dataset (number of rows and columns)"
      ],
      "metadata": {
        "id": "T9l3DQaxEipf"
      }
    },
    {
      "cell_type": "code",
      "source": [
        "# Check the shape of our dataset\n",
        "print(\"Dataset Shape:\", df1.shape)\n"
      ],
      "metadata": {
        "id": "VrVdtPIIqwuc",
        "colab": {
          "base_uri": "https://localhost:8080/",
          "height": 0
        },
        "outputId": "8b2e8a63-6316-4e58-ea1a-4964de0b3957"
      },
      "execution_count": 5,
      "outputs": [
        {
          "output_type": "stream",
          "name": "stdout",
          "text": [
            "Dataset Shape: (50000, 13)\n"
          ]
        }
      ]
    },
    {
      "cell_type": "markdown",
      "source": [
        "> Display the first 5 rows of our dataset. *Hint : head() method*"
      ],
      "metadata": {
        "id": "rVasySUIFLCy"
      }
    },
    {
      "cell_type": "code",
      "source": [
        "# Your code here()\n",
        "print(df1.head());\n"
      ],
      "metadata": {
        "id": "pgxTTKpcudEK",
        "colab": {
          "base_uri": "https://localhost:8080/",
          "height": 0
        },
        "outputId": "512b5111-110b-4857-b7e3-5ee7c0142a1c"
      },
      "execution_count": 6,
      "outputs": [
        {
          "output_type": "stream",
          "name": "stdout",
          "text": [
            "   Student ID   Age  Gender      Height     Weight Blood Type        BMI  \\\n",
            "0     48419.0  34.0    Male  172.793930  43.761668          O  14.656724   \n",
            "1     64979.0  25.0  Female  155.370924  53.658217         AB  22.227813   \n",
            "2     37531.0  24.0    Male  177.065466  41.897201          B  13.363410   \n",
            "3     36473.0  34.0    Male  187.403636  83.172918         AB  23.682411   \n",
            "4     13960.0  29.0    Male         NaN  92.665678         AB  35.423958   \n",
            "\n",
            "   Temperature  Heart Rate  Blood Pressure  Cholesterol Diabetes Smoking  \n",
            "0    99.080335        92.0           118.0        167.0      Yes      No  \n",
            "1    98.238156        67.0            98.0        124.0       No      No  \n",
            "2    99.243096        79.0           126.0        223.0       No     Yes  \n",
            "3    98.462143        65.0            95.0        160.0       No      No  \n",
            "4    98.450508        75.0           111.0        163.0       No      No  \n"
          ]
        }
      ]
    },
    {
      "cell_type": "markdown",
      "source": [
        "> Display 5 random rows of our dataset. *Hint : sample() method*"
      ],
      "metadata": {
        "id": "5H-rssNcFf68"
      }
    },
    {
      "cell_type": "code",
      "source": [
        "print(\"Random 5 Rows:\\n\", df1.sample(5))\n"
      ],
      "metadata": {
        "id": "oEqG3M2vuqjj",
        "colab": {
          "base_uri": "https://localhost:8080/",
          "height": 0
        },
        "outputId": "8f820ad7-2cdf-4630-f821-443277372acb"
      },
      "execution_count": 7,
      "outputs": [
        {
          "output_type": "stream",
          "name": "stdout",
          "text": [
            "Random 5 Rows:\n",
            "        Student ID   Age  Gender      Height     Weight Blood Type        BMI  \\\n",
            "42243     86155.0  23.0    Male  150.559497  48.675120          O  21.472901   \n",
            "45697     56999.0  24.0  Female  189.052461  65.465907          B  18.316839   \n",
            "26133     96289.0  22.0  Female  176.437808  72.903955          B  23.418970   \n",
            "7239      78164.0  30.0    Male  159.161842  73.796777          A  29.131274   \n",
            "47296     15824.0  30.0    Male  195.170485  74.023468         AB  19.433058   \n",
            "\n",
            "       Temperature  Heart Rate  Blood Pressure  Cholesterol Diabetes Smoking  \n",
            "42243    97.926070        97.0           122.0        125.0      Yes      No  \n",
            "45697    98.022984        62.0            94.0        152.0      Yes     Yes  \n",
            "26133    99.225449        97.0            92.0        247.0       No      No  \n",
            "7239     97.797794        96.0           126.0        189.0       No     Yes  \n",
            "47296    98.766605        71.0           128.0        177.0       No      No  \n"
          ]
        }
      ]
    },
    {
      "cell_type": "markdown",
      "source": [
        "> Check datatypes of each columns. *Hint : dtypes*"
      ],
      "metadata": {
        "id": "9_KtsNZqGbPA"
      }
    },
    {
      "cell_type": "code",
      "source": [
        "df1.dtypes\n"
      ],
      "metadata": {
        "id": "tfqu3Dke9Z46",
        "colab": {
          "base_uri": "https://localhost:8080/",
          "height": 492
        },
        "outputId": "e28abb86-f48d-41eb-fd73-8490a69926a3"
      },
      "execution_count": 8,
      "outputs": [
        {
          "output_type": "execute_result",
          "data": {
            "text/plain": [
              "Student ID        float64\n",
              "Age               float64\n",
              "Gender             object\n",
              "Height            float64\n",
              "Weight            float64\n",
              "Blood Type         object\n",
              "BMI               float64\n",
              "Temperature       float64\n",
              "Heart Rate        float64\n",
              "Blood Pressure    float64\n",
              "Cholesterol       float64\n",
              "Diabetes           object\n",
              "Smoking            object\n",
              "dtype: object"
            ],
            "text/html": [
              "<div>\n",
              "<style scoped>\n",
              "    .dataframe tbody tr th:only-of-type {\n",
              "        vertical-align: middle;\n",
              "    }\n",
              "\n",
              "    .dataframe tbody tr th {\n",
              "        vertical-align: top;\n",
              "    }\n",
              "\n",
              "    .dataframe thead th {\n",
              "        text-align: right;\n",
              "    }\n",
              "</style>\n",
              "<table border=\"1\" class=\"dataframe\">\n",
              "  <thead>\n",
              "    <tr style=\"text-align: right;\">\n",
              "      <th></th>\n",
              "      <th>0</th>\n",
              "    </tr>\n",
              "  </thead>\n",
              "  <tbody>\n",
              "    <tr>\n",
              "      <th>Student ID</th>\n",
              "      <td>float64</td>\n",
              "    </tr>\n",
              "    <tr>\n",
              "      <th>Age</th>\n",
              "      <td>float64</td>\n",
              "    </tr>\n",
              "    <tr>\n",
              "      <th>Gender</th>\n",
              "      <td>object</td>\n",
              "    </tr>\n",
              "    <tr>\n",
              "      <th>Height</th>\n",
              "      <td>float64</td>\n",
              "    </tr>\n",
              "    <tr>\n",
              "      <th>Weight</th>\n",
              "      <td>float64</td>\n",
              "    </tr>\n",
              "    <tr>\n",
              "      <th>Blood Type</th>\n",
              "      <td>object</td>\n",
              "    </tr>\n",
              "    <tr>\n",
              "      <th>BMI</th>\n",
              "      <td>float64</td>\n",
              "    </tr>\n",
              "    <tr>\n",
              "      <th>Temperature</th>\n",
              "      <td>float64</td>\n",
              "    </tr>\n",
              "    <tr>\n",
              "      <th>Heart Rate</th>\n",
              "      <td>float64</td>\n",
              "    </tr>\n",
              "    <tr>\n",
              "      <th>Blood Pressure</th>\n",
              "      <td>float64</td>\n",
              "    </tr>\n",
              "    <tr>\n",
              "      <th>Cholesterol</th>\n",
              "      <td>float64</td>\n",
              "    </tr>\n",
              "    <tr>\n",
              "      <th>Diabetes</th>\n",
              "      <td>object</td>\n",
              "    </tr>\n",
              "    <tr>\n",
              "      <th>Smoking</th>\n",
              "      <td>object</td>\n",
              "    </tr>\n",
              "  </tbody>\n",
              "</table>\n",
              "</div><br><label><b>dtype:</b> object</label>"
            ]
          },
          "metadata": {},
          "execution_count": 8
        }
      ]
    },
    {
      "cell_type": "markdown",
      "source": [
        "> How many of our features are numerical and categorical ? Write a python code to fill the below 2 empty lists.\n",
        "\n",
        "* num_cols : should contain name of columns with numerical data type.\n",
        "\n",
        "* cat_cols : should contain name of columns with categorical data type.\n"
      ],
      "metadata": {
        "id": "pWcI_dzS9qyp"
      }
    },
    {
      "cell_type": "code",
      "source": [
        "num_cols = []\n",
        "cat_cols = []\n",
        "\n",
        "# Your code here\n",
        "for col in df1.columns:\n",
        "    if df1[col].dtype == 'object':\n",
        "        cat_cols.append(col)\n",
        "    else:\n",
        "        num_cols.append(col)"
      ],
      "metadata": {
        "id": "7RBPauD21T4K"
      },
      "execution_count": 9,
      "outputs": []
    },
    {
      "cell_type": "code",
      "source": [
        "print(\"Numerical columns : \", num_cols)\n",
        "print(\"Categorical columns : \", cat_cols)\n",
        "print(\"Number of numerical columns : \", len(num_cols))\n",
        "print(\"Number of categorcal columns : \", len(cat_cols))"
      ],
      "metadata": {
        "id": "GPVuMCww1-ka",
        "colab": {
          "base_uri": "https://localhost:8080/",
          "height": 0
        },
        "outputId": "83cfd48f-109b-4e4b-dee3-f173117354f9"
      },
      "execution_count": 10,
      "outputs": [
        {
          "output_type": "stream",
          "name": "stdout",
          "text": [
            "Numerical columns :  ['Student ID', 'Age', 'Height', 'Weight', 'BMI', 'Temperature', 'Heart Rate', 'Blood Pressure', 'Cholesterol']\n",
            "Categorical columns :  ['Gender', 'Blood Type', 'Diabetes', 'Smoking']\n",
            "Number of numerical columns :  9\n",
            "Number of categorcal columns :  4\n"
          ]
        }
      ]
    },
    {
      "cell_type": "markdown",
      "source": [
        "> Generate summary statistics our data that includes measurements like count, mean, standard deviation, minimum, maximum, and quartiles. *Hint : describe() method*"
      ],
      "metadata": {
        "id": "AQ8FP11CNFY3"
      }
    },
    {
      "cell_type": "code",
      "source": [
        "# Print some statistical measurements of our numerical columns\n",
        "# Your code here\n",
        "df1.describe()"
      ],
      "metadata": {
        "id": "aeO88kUfqDx4",
        "colab": {
          "base_uri": "https://localhost:8080/",
          "height": 338
        },
        "outputId": "763f0c32-c558-46e4-f262-275e2cb62ba5"
      },
      "execution_count": 11,
      "outputs": [
        {
          "output_type": "execute_result",
          "data": {
            "text/plain": [
              "         Student ID           Age        Height        Weight           BMI  \\\n",
              "count  50000.000000  49934.000000  48752.000000  50000.000000  50000.000000   \n",
              "mean   49835.464140     26.028578    174.898147     69.992555     23.365428   \n",
              "std    28801.118493      4.883655     14.429881     17.310689      7.063461   \n",
              "min        2.000000     18.000000    150.002125     40.000718     10.074837   \n",
              "25%    24825.750000     22.000000    162.511419     54.976175     17.840544   \n",
              "50%    49751.500000     26.000000    174.782445     70.073127     22.715855   \n",
              "75%    74715.250000     30.000000    187.456113     85.007916     28.063988   \n",
              "max    99999.000000     34.000000    199.998639     99.997668     44.355113   \n",
              "\n",
              "        Temperature    Heart Rate  Blood Pressure   Cholesterol  \n",
              "count  50000.000000  48362.000000    50000.000000  50000.000000  \n",
              "mean      98.599156     79.513440      114.526160    184.268900  \n",
              "std        0.499875     11.518227       14.372229     37.692965  \n",
              "min       96.397835     60.000000       90.000000    120.000000  \n",
              "25%       98.262937     70.000000      102.000000    152.000000  \n",
              "50%       98.598631     79.000000      115.000000    184.000000  \n",
              "75%       98.940004     89.000000      127.000000    217.000000  \n",
              "max      100.773765     99.000000      139.000000    249.000000  "
            ],
            "text/html": [
              "\n",
              "  <div id=\"df-31c618f5-f22a-4ea5-aa34-58cc0158b571\" class=\"colab-df-container\">\n",
              "    <div>\n",
              "<style scoped>\n",
              "    .dataframe tbody tr th:only-of-type {\n",
              "        vertical-align: middle;\n",
              "    }\n",
              "\n",
              "    .dataframe tbody tr th {\n",
              "        vertical-align: top;\n",
              "    }\n",
              "\n",
              "    .dataframe thead th {\n",
              "        text-align: right;\n",
              "    }\n",
              "</style>\n",
              "<table border=\"1\" class=\"dataframe\">\n",
              "  <thead>\n",
              "    <tr style=\"text-align: right;\">\n",
              "      <th></th>\n",
              "      <th>Student ID</th>\n",
              "      <th>Age</th>\n",
              "      <th>Height</th>\n",
              "      <th>Weight</th>\n",
              "      <th>BMI</th>\n",
              "      <th>Temperature</th>\n",
              "      <th>Heart Rate</th>\n",
              "      <th>Blood Pressure</th>\n",
              "      <th>Cholesterol</th>\n",
              "    </tr>\n",
              "  </thead>\n",
              "  <tbody>\n",
              "    <tr>\n",
              "      <th>count</th>\n",
              "      <td>50000.000000</td>\n",
              "      <td>49934.000000</td>\n",
              "      <td>48752.000000</td>\n",
              "      <td>50000.000000</td>\n",
              "      <td>50000.000000</td>\n",
              "      <td>50000.000000</td>\n",
              "      <td>48362.000000</td>\n",
              "      <td>50000.000000</td>\n",
              "      <td>50000.000000</td>\n",
              "    </tr>\n",
              "    <tr>\n",
              "      <th>mean</th>\n",
              "      <td>49835.464140</td>\n",
              "      <td>26.028578</td>\n",
              "      <td>174.898147</td>\n",
              "      <td>69.992555</td>\n",
              "      <td>23.365428</td>\n",
              "      <td>98.599156</td>\n",
              "      <td>79.513440</td>\n",
              "      <td>114.526160</td>\n",
              "      <td>184.268900</td>\n",
              "    </tr>\n",
              "    <tr>\n",
              "      <th>std</th>\n",
              "      <td>28801.118493</td>\n",
              "      <td>4.883655</td>\n",
              "      <td>14.429881</td>\n",
              "      <td>17.310689</td>\n",
              "      <td>7.063461</td>\n",
              "      <td>0.499875</td>\n",
              "      <td>11.518227</td>\n",
              "      <td>14.372229</td>\n",
              "      <td>37.692965</td>\n",
              "    </tr>\n",
              "    <tr>\n",
              "      <th>min</th>\n",
              "      <td>2.000000</td>\n",
              "      <td>18.000000</td>\n",
              "      <td>150.002125</td>\n",
              "      <td>40.000718</td>\n",
              "      <td>10.074837</td>\n",
              "      <td>96.397835</td>\n",
              "      <td>60.000000</td>\n",
              "      <td>90.000000</td>\n",
              "      <td>120.000000</td>\n",
              "    </tr>\n",
              "    <tr>\n",
              "      <th>25%</th>\n",
              "      <td>24825.750000</td>\n",
              "      <td>22.000000</td>\n",
              "      <td>162.511419</td>\n",
              "      <td>54.976175</td>\n",
              "      <td>17.840544</td>\n",
              "      <td>98.262937</td>\n",
              "      <td>70.000000</td>\n",
              "      <td>102.000000</td>\n",
              "      <td>152.000000</td>\n",
              "    </tr>\n",
              "    <tr>\n",
              "      <th>50%</th>\n",
              "      <td>49751.500000</td>\n",
              "      <td>26.000000</td>\n",
              "      <td>174.782445</td>\n",
              "      <td>70.073127</td>\n",
              "      <td>22.715855</td>\n",
              "      <td>98.598631</td>\n",
              "      <td>79.000000</td>\n",
              "      <td>115.000000</td>\n",
              "      <td>184.000000</td>\n",
              "    </tr>\n",
              "    <tr>\n",
              "      <th>75%</th>\n",
              "      <td>74715.250000</td>\n",
              "      <td>30.000000</td>\n",
              "      <td>187.456113</td>\n",
              "      <td>85.007916</td>\n",
              "      <td>28.063988</td>\n",
              "      <td>98.940004</td>\n",
              "      <td>89.000000</td>\n",
              "      <td>127.000000</td>\n",
              "      <td>217.000000</td>\n",
              "    </tr>\n",
              "    <tr>\n",
              "      <th>max</th>\n",
              "      <td>99999.000000</td>\n",
              "      <td>34.000000</td>\n",
              "      <td>199.998639</td>\n",
              "      <td>99.997668</td>\n",
              "      <td>44.355113</td>\n",
              "      <td>100.773765</td>\n",
              "      <td>99.000000</td>\n",
              "      <td>139.000000</td>\n",
              "      <td>249.000000</td>\n",
              "    </tr>\n",
              "  </tbody>\n",
              "</table>\n",
              "</div>\n",
              "    <div class=\"colab-df-buttons\">\n",
              "\n",
              "  <div class=\"colab-df-container\">\n",
              "    <button class=\"colab-df-convert\" onclick=\"convertToInteractive('df-31c618f5-f22a-4ea5-aa34-58cc0158b571')\"\n",
              "            title=\"Convert this dataframe to an interactive table.\"\n",
              "            style=\"display:none;\">\n",
              "\n",
              "  <svg xmlns=\"http://www.w3.org/2000/svg\" height=\"24px\" viewBox=\"0 -960 960 960\">\n",
              "    <path d=\"M120-120v-720h720v720H120Zm60-500h600v-160H180v160Zm220 220h160v-160H400v160Zm0 220h160v-160H400v160ZM180-400h160v-160H180v160Zm440 0h160v-160H620v160ZM180-180h160v-160H180v160Zm440 0h160v-160H620v160Z\"/>\n",
              "  </svg>\n",
              "    </button>\n",
              "\n",
              "  <style>\n",
              "    .colab-df-container {\n",
              "      display:flex;\n",
              "      gap: 12px;\n",
              "    }\n",
              "\n",
              "    .colab-df-convert {\n",
              "      background-color: #E8F0FE;\n",
              "      border: none;\n",
              "      border-radius: 50%;\n",
              "      cursor: pointer;\n",
              "      display: none;\n",
              "      fill: #1967D2;\n",
              "      height: 32px;\n",
              "      padding: 0 0 0 0;\n",
              "      width: 32px;\n",
              "    }\n",
              "\n",
              "    .colab-df-convert:hover {\n",
              "      background-color: #E2EBFA;\n",
              "      box-shadow: 0px 1px 2px rgba(60, 64, 67, 0.3), 0px 1px 3px 1px rgba(60, 64, 67, 0.15);\n",
              "      fill: #174EA6;\n",
              "    }\n",
              "\n",
              "    .colab-df-buttons div {\n",
              "      margin-bottom: 4px;\n",
              "    }\n",
              "\n",
              "    [theme=dark] .colab-df-convert {\n",
              "      background-color: #3B4455;\n",
              "      fill: #D2E3FC;\n",
              "    }\n",
              "\n",
              "    [theme=dark] .colab-df-convert:hover {\n",
              "      background-color: #434B5C;\n",
              "      box-shadow: 0px 1px 3px 1px rgba(0, 0, 0, 0.15);\n",
              "      filter: drop-shadow(0px 1px 2px rgba(0, 0, 0, 0.3));\n",
              "      fill: #FFFFFF;\n",
              "    }\n",
              "  </style>\n",
              "\n",
              "    <script>\n",
              "      const buttonEl =\n",
              "        document.querySelector('#df-31c618f5-f22a-4ea5-aa34-58cc0158b571 button.colab-df-convert');\n",
              "      buttonEl.style.display =\n",
              "        google.colab.kernel.accessAllowed ? 'block' : 'none';\n",
              "\n",
              "      async function convertToInteractive(key) {\n",
              "        const element = document.querySelector('#df-31c618f5-f22a-4ea5-aa34-58cc0158b571');\n",
              "        const dataTable =\n",
              "          await google.colab.kernel.invokeFunction('convertToInteractive',\n",
              "                                                    [key], {});\n",
              "        if (!dataTable) return;\n",
              "\n",
              "        const docLinkHtml = 'Like what you see? Visit the ' +\n",
              "          '<a target=\"_blank\" href=https://colab.research.google.com/notebooks/data_table.ipynb>data table notebook</a>'\n",
              "          + ' to learn more about interactive tables.';\n",
              "        element.innerHTML = '';\n",
              "        dataTable['output_type'] = 'display_data';\n",
              "        await google.colab.output.renderOutput(dataTable, element);\n",
              "        const docLink = document.createElement('div');\n",
              "        docLink.innerHTML = docLinkHtml;\n",
              "        element.appendChild(docLink);\n",
              "      }\n",
              "    </script>\n",
              "  </div>\n",
              "\n",
              "\n",
              "<div id=\"df-5053db13-d78a-4316-8e23-f626b05da8a5\">\n",
              "  <button class=\"colab-df-quickchart\" onclick=\"quickchart('df-5053db13-d78a-4316-8e23-f626b05da8a5')\"\n",
              "            title=\"Suggest charts\"\n",
              "            style=\"display:none;\">\n",
              "\n",
              "<svg xmlns=\"http://www.w3.org/2000/svg\" height=\"24px\"viewBox=\"0 0 24 24\"\n",
              "     width=\"24px\">\n",
              "    <g>\n",
              "        <path d=\"M19 3H5c-1.1 0-2 .9-2 2v14c0 1.1.9 2 2 2h14c1.1 0 2-.9 2-2V5c0-1.1-.9-2-2-2zM9 17H7v-7h2v7zm4 0h-2V7h2v10zm4 0h-2v-4h2v4z\"/>\n",
              "    </g>\n",
              "</svg>\n",
              "  </button>\n",
              "\n",
              "<style>\n",
              "  .colab-df-quickchart {\n",
              "      --bg-color: #E8F0FE;\n",
              "      --fill-color: #1967D2;\n",
              "      --hover-bg-color: #E2EBFA;\n",
              "      --hover-fill-color: #174EA6;\n",
              "      --disabled-fill-color: #AAA;\n",
              "      --disabled-bg-color: #DDD;\n",
              "  }\n",
              "\n",
              "  [theme=dark] .colab-df-quickchart {\n",
              "      --bg-color: #3B4455;\n",
              "      --fill-color: #D2E3FC;\n",
              "      --hover-bg-color: #434B5C;\n",
              "      --hover-fill-color: #FFFFFF;\n",
              "      --disabled-bg-color: #3B4455;\n",
              "      --disabled-fill-color: #666;\n",
              "  }\n",
              "\n",
              "  .colab-df-quickchart {\n",
              "    background-color: var(--bg-color);\n",
              "    border: none;\n",
              "    border-radius: 50%;\n",
              "    cursor: pointer;\n",
              "    display: none;\n",
              "    fill: var(--fill-color);\n",
              "    height: 32px;\n",
              "    padding: 0;\n",
              "    width: 32px;\n",
              "  }\n",
              "\n",
              "  .colab-df-quickchart:hover {\n",
              "    background-color: var(--hover-bg-color);\n",
              "    box-shadow: 0 1px 2px rgba(60, 64, 67, 0.3), 0 1px 3px 1px rgba(60, 64, 67, 0.15);\n",
              "    fill: var(--button-hover-fill-color);\n",
              "  }\n",
              "\n",
              "  .colab-df-quickchart-complete:disabled,\n",
              "  .colab-df-quickchart-complete:disabled:hover {\n",
              "    background-color: var(--disabled-bg-color);\n",
              "    fill: var(--disabled-fill-color);\n",
              "    box-shadow: none;\n",
              "  }\n",
              "\n",
              "  .colab-df-spinner {\n",
              "    border: 2px solid var(--fill-color);\n",
              "    border-color: transparent;\n",
              "    border-bottom-color: var(--fill-color);\n",
              "    animation:\n",
              "      spin 1s steps(1) infinite;\n",
              "  }\n",
              "\n",
              "  @keyframes spin {\n",
              "    0% {\n",
              "      border-color: transparent;\n",
              "      border-bottom-color: var(--fill-color);\n",
              "      border-left-color: var(--fill-color);\n",
              "    }\n",
              "    20% {\n",
              "      border-color: transparent;\n",
              "      border-left-color: var(--fill-color);\n",
              "      border-top-color: var(--fill-color);\n",
              "    }\n",
              "    30% {\n",
              "      border-color: transparent;\n",
              "      border-left-color: var(--fill-color);\n",
              "      border-top-color: var(--fill-color);\n",
              "      border-right-color: var(--fill-color);\n",
              "    }\n",
              "    40% {\n",
              "      border-color: transparent;\n",
              "      border-right-color: var(--fill-color);\n",
              "      border-top-color: var(--fill-color);\n",
              "    }\n",
              "    60% {\n",
              "      border-color: transparent;\n",
              "      border-right-color: var(--fill-color);\n",
              "    }\n",
              "    80% {\n",
              "      border-color: transparent;\n",
              "      border-right-color: var(--fill-color);\n",
              "      border-bottom-color: var(--fill-color);\n",
              "    }\n",
              "    90% {\n",
              "      border-color: transparent;\n",
              "      border-bottom-color: var(--fill-color);\n",
              "    }\n",
              "  }\n",
              "</style>\n",
              "\n",
              "  <script>\n",
              "    async function quickchart(key) {\n",
              "      const quickchartButtonEl =\n",
              "        document.querySelector('#' + key + ' button');\n",
              "      quickchartButtonEl.disabled = true;  // To prevent multiple clicks.\n",
              "      quickchartButtonEl.classList.add('colab-df-spinner');\n",
              "      try {\n",
              "        const charts = await google.colab.kernel.invokeFunction(\n",
              "            'suggestCharts', [key], {});\n",
              "      } catch (error) {\n",
              "        console.error('Error during call to suggestCharts:', error);\n",
              "      }\n",
              "      quickchartButtonEl.classList.remove('colab-df-spinner');\n",
              "      quickchartButtonEl.classList.add('colab-df-quickchart-complete');\n",
              "    }\n",
              "    (() => {\n",
              "      let quickchartButtonEl =\n",
              "        document.querySelector('#df-5053db13-d78a-4316-8e23-f626b05da8a5 button');\n",
              "      quickchartButtonEl.style.display =\n",
              "        google.colab.kernel.accessAllowed ? 'block' : 'none';\n",
              "    })();\n",
              "  </script>\n",
              "</div>\n",
              "\n",
              "    </div>\n",
              "  </div>\n"
            ],
            "application/vnd.google.colaboratory.intrinsic+json": {
              "type": "dataframe",
              "summary": "{\n  \"name\": \"df1\",\n  \"rows\": 8,\n  \"fields\": [\n    {\n      \"column\": \"Student ID\",\n      \"properties\": {\n        \"dtype\": \"number\",\n        \"std\": 30782.375976916926,\n        \"min\": 2.0,\n        \"max\": 99999.0,\n        \"num_unique_values\": 8,\n        \"samples\": [\n          49835.46414,\n          49751.5,\n          50000.0\n        ],\n        \"semantic_type\": \"\",\n        \"description\": \"\"\n      }\n    },\n    {\n      \"column\": \"Age\",\n      \"properties\": {\n        \"dtype\": \"number\",\n        \"std\": 17646.209906257183,\n        \"min\": 4.8836547281410345,\n        \"max\": 49934.0,\n        \"num_unique_values\": 8,\n        \"samples\": [\n          26.028577722593823,\n          26.0,\n          49934.0\n        ],\n        \"semantic_type\": \"\",\n        \"description\": \"\"\n      }\n    },\n    {\n      \"column\": \"Height\",\n      \"properties\": {\n        \"dtype\": \"number\",\n        \"std\": 17182.789094064385,\n        \"min\": 14.429880868815076,\n        \"max\": 48752.0,\n        \"num_unique_values\": 8,\n        \"samples\": [\n          174.898146612945,\n          174.78244494927833,\n          48752.0\n        ],\n        \"semantic_type\": \"\",\n        \"description\": \"\"\n      }\n    },\n    {\n      \"column\": \"Weight\",\n      \"properties\": {\n        \"dtype\": \"number\",\n        \"std\": 17655.598307734315,\n        \"min\": 17.310689080487773,\n        \"max\": 50000.0,\n        \"num_unique_values\": 8,\n        \"samples\": [\n          69.99255518401753,\n          70.07312702034766,\n          50000.0\n        ],\n        \"semantic_type\": \"\",\n        \"description\": \"\"\n      }\n    },\n    {\n      \"column\": \"BMI\",\n      \"properties\": {\n        \"dtype\": \"number\",\n        \"std\": 17669.921383124314,\n        \"min\": 7.063460982541674,\n        \"max\": 50000.0,\n        \"num_unique_values\": 8,\n        \"samples\": [\n          23.365428356253318,\n          22.7158545725128,\n          50000.0\n        ],\n        \"semantic_type\": \"\",\n        \"description\": \"\"\n      }\n    },\n    {\n      \"column\": \"Temperature\",\n      \"properties\": {\n        \"dtype\": \"number\",\n        \"std\": 17647.798790902314,\n        \"min\": 0.4998746331489986,\n        \"max\": 50000.0,\n        \"num_unique_values\": 8,\n        \"samples\": [\n          98.59915565751241,\n          98.59863073663232,\n          50000.0\n        ],\n        \"semantic_type\": \"\",\n        \"description\": \"\"\n      }\n    },\n    {\n      \"column\": \"Heart Rate\",\n      \"properties\": {\n        \"dtype\": \"number\",\n        \"std\": 17073.92022448744,\n        \"min\": 11.51822655151564,\n        \"max\": 48362.0,\n        \"num_unique_values\": 8,\n        \"samples\": [\n          79.5134403043712,\n          79.0,\n          48362.0\n        ],\n        \"semantic_type\": \"\",\n        \"description\": \"\"\n      }\n    },\n    {\n      \"column\": \"Blood Pressure\",\n      \"properties\": {\n        \"dtype\": \"number\",\n        \"std\": 17642.2592870926,\n        \"min\": 14.37222901549189,\n        \"max\": 50000.0,\n        \"num_unique_values\": 8,\n        \"samples\": [\n          114.52616,\n          115.0,\n          50000.0\n        ],\n        \"semantic_type\": \"\",\n        \"description\": \"\"\n      }\n    },\n    {\n      \"column\": \"Cholesterol\",\n      \"properties\": {\n        \"dtype\": \"number\",\n        \"std\": 17620.00778896159,\n        \"min\": 37.69296496671687,\n        \"max\": 50000.0,\n        \"num_unique_values\": 8,\n        \"samples\": [\n          184.2689,\n          184.0,\n          50000.0\n        ],\n        \"semantic_type\": \"\",\n        \"description\": \"\"\n      }\n    }\n  ]\n}"
            }
          },
          "metadata": {},
          "execution_count": 11
        }
      ]
    },
    {
      "cell_type": "markdown",
      "source": [
        "> For categorical columns, we will check how many unique classes they have and how frequently each class appears in the dataset."
      ],
      "metadata": {
        "id": "oer83t8fO13h"
      }
    },
    {
      "cell_type": "markdown",
      "source": [
        "> Below is an example of one categorical class - Gender"
      ],
      "metadata": {
        "id": "zcE2im5DPMBO"
      }
    },
    {
      "cell_type": "code",
      "source": [
        "# Count the occurrences of each unique value in the 'Gender' column of the DataFrame 'df1'\n",
        "df1['Gender'].value_counts()"
      ],
      "metadata": {
        "colab": {
          "base_uri": "https://localhost:8080/",
          "height": 178
        },
        "id": "ZZAx03alPSeB",
        "outputId": "a7ddc99d-c4ed-46f7-e2fe-2f067d139d2a"
      },
      "execution_count": 12,
      "outputs": [
        {
          "output_type": "execute_result",
          "data": {
            "text/plain": [
              "Gender\n",
              "Female    24481\n",
              "Male      24411\n",
              "Name: count, dtype: int64"
            ],
            "text/html": [
              "<div>\n",
              "<style scoped>\n",
              "    .dataframe tbody tr th:only-of-type {\n",
              "        vertical-align: middle;\n",
              "    }\n",
              "\n",
              "    .dataframe tbody tr th {\n",
              "        vertical-align: top;\n",
              "    }\n",
              "\n",
              "    .dataframe thead th {\n",
              "        text-align: right;\n",
              "    }\n",
              "</style>\n",
              "<table border=\"1\" class=\"dataframe\">\n",
              "  <thead>\n",
              "    <tr style=\"text-align: right;\">\n",
              "      <th></th>\n",
              "      <th>count</th>\n",
              "    </tr>\n",
              "    <tr>\n",
              "      <th>Gender</th>\n",
              "      <th></th>\n",
              "    </tr>\n",
              "  </thead>\n",
              "  <tbody>\n",
              "    <tr>\n",
              "      <th>Female</th>\n",
              "      <td>24481</td>\n",
              "    </tr>\n",
              "    <tr>\n",
              "      <th>Male</th>\n",
              "      <td>24411</td>\n",
              "    </tr>\n",
              "  </tbody>\n",
              "</table>\n",
              "</div><br><label><b>dtype:</b> int64</label>"
            ]
          },
          "metadata": {},
          "execution_count": 12
        }
      ]
    },
    {
      "cell_type": "markdown",
      "source": [
        "> Similarly do for the other categorical columns. *Hint : You might wana use the list you created for storing the categorical columns*"
      ],
      "metadata": {
        "id": "y38LX6nwPW47"
      }
    },
    {
      "cell_type": "code",
      "source": [
        "# Your code here\n",
        "for col in cat_cols:\n",
        "    print(f\"\\n{col} :\")\n",
        "    print(df1[col].value_counts())"
      ],
      "metadata": {
        "id": "FExcMR_50z8Q",
        "colab": {
          "base_uri": "https://localhost:8080/",
          "height": 0
        },
        "outputId": "23665e0e-3bc4-4686-b0f1-ef07ae61b165"
      },
      "execution_count": 13,
      "outputs": [
        {
          "output_type": "stream",
          "name": "stdout",
          "text": [
            "\n",
            "Gender :\n",
            "Gender\n",
            "Female    24481\n",
            "Male      24411\n",
            "Name: count, dtype: int64\n",
            "\n",
            "Blood Type :\n",
            "Blood Type\n",
            "B     12709\n",
            "O     12562\n",
            "A     12463\n",
            "AB    12266\n",
            "Name: count, dtype: int64\n",
            "\n",
            "Diabetes :\n",
            "Diabetes\n",
            "No     45067\n",
            "Yes     4933\n",
            "Name: count, dtype: int64\n",
            "\n",
            "Smoking :\n",
            "Smoking\n",
            "No     39266\n",
            "Yes     9785\n",
            "Name: count, dtype: int64\n"
          ]
        }
      ]
    },
    {
      "cell_type": "markdown",
      "source": [
        "### 4. Cleaning Data"
      ],
      "metadata": {
        "id": "nVhocRoq45UD"
      }
    },
    {
      "cell_type": "markdown",
      "source": [
        "> Removing column 'Student ID' as it's not relevant for our analysis or modeling"
      ],
      "metadata": {
        "id": "r0ifCTKePv47"
      }
    },
    {
      "cell_type": "code",
      "source": [
        "# remove student Id column as it's not relevant for our analysis or modeling\n",
        "# Your code here\n",
        "#df1.drop('Student ID', axis=1, inplace=True)"
      ],
      "metadata": {
        "id": "7tMZuav2VcsR"
      },
      "execution_count": 14,
      "outputs": []
    },
    {
      "cell_type": "markdown",
      "source": [
        "> Check how many rows are duplicated. *Hint : duplicated() and sum() method*"
      ],
      "metadata": {
        "id": "y5ddNU-pQ3R3"
      }
    },
    {
      "cell_type": "code",
      "source": [
        "# check for duplicate data\n",
        "# Your code here\n",
        "print(f\"Rows before removing duplicates: {df1.shape[0]}\")\n",
        "df1.drop_duplicates(inplace=True)\n",
        "print(f\"Rows after removing duplicates: {df1.shape[0]}\")"
      ],
      "metadata": {
        "id": "xGsDKQnauH-G",
        "colab": {
          "base_uri": "https://localhost:8080/",
          "height": 0
        },
        "outputId": "af80bc74-a429-4be5-b4a2-c8ca023057f3"
      },
      "execution_count": 15,
      "outputs": [
        {
          "output_type": "stream",
          "name": "stdout",
          "text": [
            "Rows before removing duplicates: 50000\n",
            "Rows after removing duplicates: 44854\n"
          ]
        }
      ]
    },
    {
      "cell_type": "markdown",
      "source": [
        "> Drop duplicate rows. *Hint : drop_duplicates() method*"
      ],
      "metadata": {
        "id": "u-B_7C5QQ-Jv"
      }
    },
    {
      "cell_type": "code",
      "source": [
        "# drop duplicate rows\n",
        "print(f\"Rows before removing duplicates: {df1.shape[0]}\")\n",
        "# Your code here\n",
        "print(f\"Rows after removing duplicates: {df1.shape[0]}\")"
      ],
      "metadata": {
        "id": "IpAP_sx2JxcI",
        "colab": {
          "base_uri": "https://localhost:8080/",
          "height": 0
        },
        "outputId": "8e68541c-08b6-4a22-eb2f-920494ffaa42"
      },
      "execution_count": 16,
      "outputs": [
        {
          "output_type": "stream",
          "name": "stdout",
          "text": [
            "Rows before removing duplicates: 44854\n",
            "Rows after removing duplicates: 44854\n"
          ]
        }
      ]
    },
    {
      "cell_type": "markdown",
      "source": [
        "> Check for null data. *Hint : isnull() and sum() method*"
      ],
      "metadata": {
        "id": "KD0JqjeSRVwN"
      }
    },
    {
      "cell_type": "code",
      "source": [
        "# Check for null data\n",
        "# Your code here\n",
        "df1.isnull().sum()"
      ],
      "metadata": {
        "id": "qcjdFOay4Pj5",
        "colab": {
          "base_uri": "https://localhost:8080/",
          "height": 492
        },
        "outputId": "582fa4d0-7d00-44af-b6b1-01e2d38538f6"
      },
      "execution_count": 17,
      "outputs": [
        {
          "output_type": "execute_result",
          "data": {
            "text/plain": [
              "Student ID           0\n",
              "Age                 66\n",
              "Gender            1106\n",
              "Height            1247\n",
              "Weight               0\n",
              "Blood Type           0\n",
              "BMI                  0\n",
              "Temperature          0\n",
              "Heart Rate        1636\n",
              "Blood Pressure       0\n",
              "Cholesterol          0\n",
              "Diabetes             0\n",
              "Smoking            947\n",
              "dtype: int64"
            ],
            "text/html": [
              "<div>\n",
              "<style scoped>\n",
              "    .dataframe tbody tr th:only-of-type {\n",
              "        vertical-align: middle;\n",
              "    }\n",
              "\n",
              "    .dataframe tbody tr th {\n",
              "        vertical-align: top;\n",
              "    }\n",
              "\n",
              "    .dataframe thead th {\n",
              "        text-align: right;\n",
              "    }\n",
              "</style>\n",
              "<table border=\"1\" class=\"dataframe\">\n",
              "  <thead>\n",
              "    <tr style=\"text-align: right;\">\n",
              "      <th></th>\n",
              "      <th>0</th>\n",
              "    </tr>\n",
              "  </thead>\n",
              "  <tbody>\n",
              "    <tr>\n",
              "      <th>Student ID</th>\n",
              "      <td>0</td>\n",
              "    </tr>\n",
              "    <tr>\n",
              "      <th>Age</th>\n",
              "      <td>66</td>\n",
              "    </tr>\n",
              "    <tr>\n",
              "      <th>Gender</th>\n",
              "      <td>1106</td>\n",
              "    </tr>\n",
              "    <tr>\n",
              "      <th>Height</th>\n",
              "      <td>1247</td>\n",
              "    </tr>\n",
              "    <tr>\n",
              "      <th>Weight</th>\n",
              "      <td>0</td>\n",
              "    </tr>\n",
              "    <tr>\n",
              "      <th>Blood Type</th>\n",
              "      <td>0</td>\n",
              "    </tr>\n",
              "    <tr>\n",
              "      <th>BMI</th>\n",
              "      <td>0</td>\n",
              "    </tr>\n",
              "    <tr>\n",
              "      <th>Temperature</th>\n",
              "      <td>0</td>\n",
              "    </tr>\n",
              "    <tr>\n",
              "      <th>Heart Rate</th>\n",
              "      <td>1636</td>\n",
              "    </tr>\n",
              "    <tr>\n",
              "      <th>Blood Pressure</th>\n",
              "      <td>0</td>\n",
              "    </tr>\n",
              "    <tr>\n",
              "      <th>Cholesterol</th>\n",
              "      <td>0</td>\n",
              "    </tr>\n",
              "    <tr>\n",
              "      <th>Diabetes</th>\n",
              "      <td>0</td>\n",
              "    </tr>\n",
              "    <tr>\n",
              "      <th>Smoking</th>\n",
              "      <td>947</td>\n",
              "    </tr>\n",
              "  </tbody>\n",
              "</table>\n",
              "</div><br><label><b>dtype:</b> int64</label>"
            ]
          },
          "metadata": {},
          "execution_count": 17
        }
      ]
    },
    {
      "cell_type": "markdown",
      "source": [
        "> If null data are found we need to handle them accordingly. we can consider applying one of the below approaches:\n",
        "\n",
        "\n",
        "1. Remove Rows with Missing Values\n",
        "\n",
        "2. Fill Missing Values with mean, meadian or mode."
      ],
      "metadata": {
        "id": "AcQRObBlRgse"
      }
    },
    {
      "cell_type": "markdown",
      "source": [
        "> *However, to complete this workshop you are required to take the second approach which means filling the null values with mean or median if the column is numerical or mode if it is categorical.*"
      ],
      "metadata": {
        "id": "9lk4QiOE-37h"
      }
    },
    {
      "cell_type": "markdown",
      "source": [
        "**Note :** We use the mean to fill missing values in numerical columns when there are no outliers. If the column contains outliers, we use the median instead, as it is less affected by extreme values."
      ],
      "metadata": {
        "id": "LIyskDmkVTsZ"
      }
    },
    {
      "cell_type": "code",
      "source": [
        "# example code to fill null values with mean\n",
        "df1.loc[:, 'Age'] = df1['Age'].fillna(df1['Age'].median())\n",
        "df1['Age'].isnull().sum()"
      ],
      "metadata": {
        "colab": {
          "base_uri": "https://localhost:8080/",
          "height": 0
        },
        "id": "LpfShKXlVN3T",
        "outputId": "3af310a4-b44a-47dd-8a2b-ef7b1686f0e2"
      },
      "execution_count": 18,
      "outputs": [
        {
          "output_type": "execute_result",
          "data": {
            "text/plain": [
              "np.int64(0)"
            ]
          },
          "metadata": {},
          "execution_count": 18
        }
      ]
    },
    {
      "cell_type": "markdown",
      "source": [
        "> Similarly do it for other columns cotaining null data"
      ],
      "metadata": {
        "id": "xsjBvAWGXmm4"
      }
    },
    {
      "cell_type": "code",
      "source": [
        "# filling null values for numerical columns\n",
        "# Your code here\n",
        "for col in num_cols:\n",
        "    if col in df1.columns:\n",
        "        df1.loc[:, col] = df1[col].fillna(df1[col].median())\n"
      ],
      "metadata": {
        "id": "6M1iNWu4khk9"
      },
      "execution_count": 19,
      "outputs": []
    },
    {
      "cell_type": "code",
      "source": [
        "# filling null values for categorical columns\n",
        "# Your code here\n",
        "for col in cat_cols:\n",
        "    df1.loc[:, col] = df1[col].fillna(df1[col].mode()[0])"
      ],
      "metadata": {
        "id": "7XfwuhOWk8qp"
      },
      "execution_count": 20,
      "outputs": []
    },
    {
      "cell_type": "code",
      "source": [
        "# Check for null data\n",
        "# Your code here\n",
        "df1.isnull().sum()"
      ],
      "metadata": {
        "id": "CdxWtAg7m-4Y",
        "colab": {
          "base_uri": "https://localhost:8080/",
          "height": 492
        },
        "outputId": "409f75b1-e743-40a0-d1c0-84f501bfa057"
      },
      "execution_count": 21,
      "outputs": [
        {
          "output_type": "execute_result",
          "data": {
            "text/plain": [
              "Student ID        0\n",
              "Age               0\n",
              "Gender            0\n",
              "Height            0\n",
              "Weight            0\n",
              "Blood Type        0\n",
              "BMI               0\n",
              "Temperature       0\n",
              "Heart Rate        0\n",
              "Blood Pressure    0\n",
              "Cholesterol       0\n",
              "Diabetes          0\n",
              "Smoking           0\n",
              "dtype: int64"
            ],
            "text/html": [
              "<div>\n",
              "<style scoped>\n",
              "    .dataframe tbody tr th:only-of-type {\n",
              "        vertical-align: middle;\n",
              "    }\n",
              "\n",
              "    .dataframe tbody tr th {\n",
              "        vertical-align: top;\n",
              "    }\n",
              "\n",
              "    .dataframe thead th {\n",
              "        text-align: right;\n",
              "    }\n",
              "</style>\n",
              "<table border=\"1\" class=\"dataframe\">\n",
              "  <thead>\n",
              "    <tr style=\"text-align: right;\">\n",
              "      <th></th>\n",
              "      <th>0</th>\n",
              "    </tr>\n",
              "  </thead>\n",
              "  <tbody>\n",
              "    <tr>\n",
              "      <th>Student ID</th>\n",
              "      <td>0</td>\n",
              "    </tr>\n",
              "    <tr>\n",
              "      <th>Age</th>\n",
              "      <td>0</td>\n",
              "    </tr>\n",
              "    <tr>\n",
              "      <th>Gender</th>\n",
              "      <td>0</td>\n",
              "    </tr>\n",
              "    <tr>\n",
              "      <th>Height</th>\n",
              "      <td>0</td>\n",
              "    </tr>\n",
              "    <tr>\n",
              "      <th>Weight</th>\n",
              "      <td>0</td>\n",
              "    </tr>\n",
              "    <tr>\n",
              "      <th>Blood Type</th>\n",
              "      <td>0</td>\n",
              "    </tr>\n",
              "    <tr>\n",
              "      <th>BMI</th>\n",
              "      <td>0</td>\n",
              "    </tr>\n",
              "    <tr>\n",
              "      <th>Temperature</th>\n",
              "      <td>0</td>\n",
              "    </tr>\n",
              "    <tr>\n",
              "      <th>Heart Rate</th>\n",
              "      <td>0</td>\n",
              "    </tr>\n",
              "    <tr>\n",
              "      <th>Blood Pressure</th>\n",
              "      <td>0</td>\n",
              "    </tr>\n",
              "    <tr>\n",
              "      <th>Cholesterol</th>\n",
              "      <td>0</td>\n",
              "    </tr>\n",
              "    <tr>\n",
              "      <th>Diabetes</th>\n",
              "      <td>0</td>\n",
              "    </tr>\n",
              "    <tr>\n",
              "      <th>Smoking</th>\n",
              "      <td>0</td>\n",
              "    </tr>\n",
              "  </tbody>\n",
              "</table>\n",
              "</div><br><label><b>dtype:</b> int64</label>"
            ]
          },
          "metadata": {},
          "execution_count": 21
        }
      ]
    },
    {
      "cell_type": "markdown",
      "source": [
        "> Check for outliers in numerical columns"
      ],
      "metadata": {
        "id": "K2d0-iGIN-rI"
      }
    },
    {
      "cell_type": "markdown",
      "source": [
        "* Outliers are data points that significantly differ from the rest of the dataset. They are unusually high or low values that do not follow the general pattern of the data.\n",
        "\n",
        "* For example, in a dataset of students' heights, if most students are between 150 cm and 180 cm, but there is a student with a height of 250 cm, that is likely an outlier.\n",
        "\n",
        "* Outliers needs to be handled as they can negatively impact machine learning models and statistical analysis.\n",
        "\n",
        "* There are 3 approches we can take to identify outliers:\n",
        "\n",
        "  1. Using Boxplots (Visualization)\n",
        "\n",
        "  2. Using IQR (Interquartile Range)\n",
        "\n",
        "  3. Using Z-score (Standard Deviation)\n"
      ],
      "metadata": {
        "id": "VeGE9vErTxo_"
      }
    },
    {
      "cell_type": "markdown",
      "source": [
        "> For this workshop we are going to use the **IQR method** to detect outliers."
      ],
      "metadata": {
        "id": "DymN75uKVMwO"
      }
    },
    {
      "cell_type": "code",
      "source": [
        "num_cols.remove(\"Student ID\") # Removing 'Student ID' from the list.\n",
        "\n",
        "# Function to detect outliers using IQR\n",
        "def detect_outliers_iqr(df, columns):\n",
        "    outliers = {}\n",
        "    for col in columns:\n",
        "        Q1 = df[col].quantile(0.25)  # First quartile (25%)\n",
        "        Q3 = df[col].quantile(0.75)  # Third quartile (75%)\n",
        "        IQR = Q3 - Q1  # Interquartile range\n",
        "        lower_bound = Q1 - 1.5 * IQR\n",
        "        upper_bound = Q3 + 1.5 * IQR\n",
        "        outlier_count = ((df[col] < lower_bound) | (df[col] > upper_bound)).sum()\n",
        "        outliers[col] = outlier_count\n",
        "    return outliers\n",
        "\n",
        "# Detect outliers\n",
        "outliers_iqr = detect_outliers_iqr(df1, columns=num_cols)\n",
        "\n",
        "# Print number of outliers in each numerical column\n",
        "print(\"Outliers detected using IQR method:\")\n",
        "for col, count in outliers_iqr.items():\n",
        "    print(f\"{col}: {count} outliers\")"
      ],
      "metadata": {
        "colab": {
          "base_uri": "https://localhost:8080/",
          "height": 0
        },
        "id": "7p2tb2ddSpeE",
        "outputId": "c10408d1-9a12-423e-82cd-f9153aee4e5d"
      },
      "execution_count": 22,
      "outputs": [
        {
          "output_type": "stream",
          "name": "stdout",
          "text": [
            "Outliers detected using IQR method:\n",
            "Age: 0 outliers\n",
            "Height: 0 outliers\n",
            "Weight: 0 outliers\n",
            "BMI: 36 outliers\n",
            "Temperature: 305 outliers\n",
            "Heart Rate: 0 outliers\n",
            "Blood Pressure: 0 outliers\n",
            "Cholesterol: 0 outliers\n"
          ]
        }
      ]
    },
    {
      "cell_type": "markdown",
      "source": [
        "> Since BMI and Temperature have outliers, we can handle them by replacing outliers with the nearest valid values (min/max limits from IQR)"
      ],
      "metadata": {
        "id": "NfqmCPCBWHF3"
      }
    },
    {
      "cell_type": "code",
      "source": [
        "# Function to replace outliers with min/max based on IQR\n",
        "def replace_outliers_with_min_max(df, column):\n",
        "    Q1 = df[column].quantile(0.25)  # First quartile (25%)\n",
        "    Q3 = df[column].quantile(0.75)  # Third quartile (75%)\n",
        "    IQR = Q3 - Q1  # Interquartile range\n",
        "    lower_bound = Q1 - 1.5 * IQR\n",
        "    upper_bound = Q3 + 1.5 * IQR\n",
        "\n",
        "    # Replace lower outliers with the minimum valid value\n",
        "    df[column] = np.where(df[column] < lower_bound, lower_bound, df[column])\n",
        "\n",
        "    # Replace upper outliers with the maximum valid value\n",
        "    df[column] = np.where(df[column] > upper_bound, upper_bound, df[column])"
      ],
      "metadata": {
        "id": "xSQB_97bWRPO"
      },
      "execution_count": 23,
      "outputs": []
    },
    {
      "cell_type": "markdown",
      "source": [
        "> Handle the outliers. *Hint : use the above replace_outliers_with_min_max() function*\\"
      ],
      "metadata": {
        "id": "YpMwy1VRI0RZ"
      }
    },
    {
      "cell_type": "code",
      "source": [
        "# Apply to columns which have outliers\n",
        "# Your code here\n",
        "for col in ['BMI', 'Temperature']:\n",
        "    replace_outliers_with_min_max(df1, col)"
      ],
      "metadata": {
        "id": "VML2oXKmIxsp"
      },
      "execution_count": 24,
      "outputs": []
    },
    {
      "cell_type": "code",
      "source": [
        "# Again check for outliers\n",
        "outliers_iqr = detect_outliers_iqr(df1, columns=num_cols)\n",
        "# Print number of outliers in each numerical column\n",
        "print(\"Outliers detected using IQR method:\")\n",
        "for col, count in outliers_iqr.items():\n",
        "    print(f\"{col}: {count} outliers\")"
      ],
      "metadata": {
        "id": "u7HJEaSpW54u",
        "colab": {
          "base_uri": "https://localhost:8080/"
        },
        "outputId": "7460ae52-019c-4084-d678-66e50394a177"
      },
      "execution_count": null,
      "outputs": [
        {
          "output_type": "stream",
          "name": "stdout",
          "text": [
            "Outliers detected using IQR method:\n",
            "Age: 0 outliers\n",
            "Height: 0 outliers\n",
            "Weight: 0 outliers\n",
            "BMI: 0 outliers\n",
            "Temperature: 0 outliers\n",
            "Heart Rate: 0 outliers\n",
            "Blood Pressure: 0 outliers\n",
            "Cholesterol: 0 outliers\n"
          ]
        }
      ]
    },
    {
      "cell_type": "markdown",
      "source": [
        "### 5. Data Visualisation"
      ],
      "metadata": {
        "id": "dUta0IbALRL5"
      }
    },
    {
      "cell_type": "markdown",
      "source": [
        "**Histogram of Age**\n",
        "\n",
        "* A histogram is a graphical representation of the distribution of a dataset.\n",
        "* It displays the frequency or count of data points that fall within certain ranges or bins.\n",
        "* A histogram shows us the frequency distribution of continuous variables."
      ],
      "metadata": {
        "id": "sVlwylTaL-KP"
      }
    },
    {
      "cell_type": "code",
      "source": [
        "# Histogram for Age\n",
        "plt.hist(df1['Age'], bins=10, color='skyblue', edgecolor='black')\n",
        "plt.title('Distribution of Age')\n",
        "plt.xlabel('Age')\n",
        "plt.ylabel('Frequency')\n",
        "plt.show()"
      ],
      "metadata": {
        "colab": {
          "base_uri": "https://localhost:8080/",
          "height": 472
        },
        "id": "bHhNIUajL9L3",
        "outputId": "73321141-1e64-421d-c989-4847a34eaf9e"
      },
      "execution_count": 25,
      "outputs": [
        {
          "output_type": "display_data",
          "data": {
            "text/plain": [
              "<Figure size 640x480 with 1 Axes>"
            ],
            "image/png": "[encoded data removed]"
          },
          "metadata": {}
        }
      ]
    },
    {
      "cell_type": "markdown",
      "source": [
        "> What is the most common age range (peak of the histogram) ?\n",
        "\n",
        "> Answer :the peak of the histogram) appears to be around 26–28 years old"
      ],
      "metadata": {
        "id": "DR4_MKW_PkJb"
      }
    },
    {
      "cell_type": "markdown",
      "source": [
        "**Bar Plot for Gender Count**\n",
        "\n",
        "* Bar plots are used to represent categorical data with rectangular bars, where the length or height of each bar is proportional to the value of the category it represents.\n",
        "\n",
        "* They are ideal for comparing different categories (e.g., counts of different genders, countries, or product sales)."
      ],
      "metadata": {
        "id": "YJQZX8FlMPs2"
      }
    },
    {
      "cell_type": "code",
      "source": [
        "# Bar plot for Gender\n",
        "gender_counts = df1['Gender'].value_counts()\n",
        "plt.bar(gender_counts.index, gender_counts.values, color=['skyblue', 'salmon'])\n",
        "plt.title('Gender Distribution')\n",
        "plt.xlabel('Gender')\n",
        "plt.ylabel('Count')\n",
        "plt.show()"
      ],
      "metadata": {
        "colab": {
          "base_uri": "https://localhost:8080/",
          "height": 472
        },
        "id": "BywDSjjqMR1O",
        "outputId": "a875fc76-cb71-48a5-d38d-bee76339c9c3"
      },
      "execution_count": 26,
      "outputs": [
        {
          "output_type": "display_data",
          "data": {
            "text/plain": [
              "<Figure size 640x480 with 1 Axes>"
            ],
            "image/png": "[encoded data removed]"
          },
          "metadata": {}
        }
      ]
    },
    {
      "cell_type": "markdown",
      "source": [
        "> 1. Which gender has the highest count?\n",
        "\n",
        "> Answer : Female"
      ],
      "metadata": {
        "id": "zZqx2yyRQArq"
      }
    },
    {
      "cell_type": "markdown",
      "source": [
        "> 2. Is the distribution balanced, or is there a significant difference between genders?\n",
        "\n",
        "> Answer :No female seems to be higher"
      ],
      "metadata": {
        "id": "xfcvC5k4Q08K"
      }
    },
    {
      "cell_type": "markdown",
      "source": [
        "**Box Plot of BMI**\n",
        "\n",
        "> A box plot is a graphical representation of the distribution of numerical data through five key summary statistics: the minimum, first quartile (Q1), median (Q2), third quartile (Q3), and maximum."
      ],
      "metadata": {
        "id": "VwQEj1E_MuVW"
      }
    },
    {
      "cell_type": "code",
      "source": [
        "# Set the seaborn plot style to whitegrid\n",
        "sns.set_style(\"whitegrid\")\n",
        "# Create a box plot of the \"Weight\" column of the DataFrame\n",
        "sns.boxplot(x = df1[\"BMI\"])\n",
        "plt.show()"
      ],
      "metadata": {
        "colab": {
          "base_uri": "https://localhost:8080/",
          "height": 449
        },
        "id": "51X8z8T3LU7Y",
        "outputId": "f33a6a90-b78a-40db-b62b-d9396c360d26"
      },
      "execution_count": 27,
      "outputs": [
        {
          "output_type": "display_data",
          "data": {
            "text/plain": [
              "<Figure size 640x480 with 1 Axes>"
            ],
            "image/png": "[encoded data removed]"
          },
          "metadata": {}
        }
      ]
    },
    {
      "cell_type": "markdown",
      "source": [
        "> 1. What is the median BMI (the middle line in the box)?\n",
        "\n",
        "> Answer : 23.5"
      ],
      "metadata": {
        "id": "4mIgoONiQu0C"
      }
    },
    {
      "cell_type": "markdown",
      "source": [
        "> 2. What is the interquartile range (IQR) (distance between Q1 and Q3)?\n",
        "\n",
        "> Answer : 26-18 =8"
      ],
      "metadata": {
        "id": "oPHvGI17Rf5m"
      }
    },
    {
      "cell_type": "markdown",
      "source": [
        "> 3. Are there any outliers (points outside the whiskers)?\n",
        "\n",
        "> Answer : no"
      ],
      "metadata": {
        "id": "wP302QvSRmfq"
      }
    },
    {
      "cell_type": "markdown",
      "source": [
        "**Scatter plot for BMI vs. Weight**"
      ],
      "metadata": {
        "id": "Nv2wgb9DMi2R"
      }
    },
    {
      "cell_type": "code",
      "source": [
        "# Randomly sample 1000 rows from the DataFrame 'df1' and store it in 'df_sampled'\n",
        "df_sampled = df1.sample(1000)\n",
        "# Set the figure size for the plot\n",
        "plt.figure(figsize=(10, 8))\n",
        "# Create a regression plot (scatter plot with a trend line) for 'Weight' vs 'BMI'\n",
        "# scatter_kws controls the transparency of the scatter points, and line_kws sets the color of the trend line\n",
        "sns.regplot(x=df_sampled['Weight'], y=df_sampled['BMI'], scatter_kws={'alpha':0.5}, line_kws={'color':'red'})\n",
        "# Set the title of the plot\n",
        "plt.title('Scatter Plot of BMI vs. Weight with Trend Line')\n",
        "# Set the labels for the x and y axes\n",
        "plt.xlabel('Weight (kg)')\n",
        "plt.ylabel('BMI')\n",
        "# Enable grid lines on the plot\n",
        "plt.grid(True)\n",
        "# Display the plot\n",
        "plt.show()"
      ],
      "metadata": {
        "colab": {
          "base_uri": "https://localhost:8080/",
          "height": 718
        },
        "id": "hj5ETKTYMiP6",
        "outputId": "3149e6c6-fa46-426f-c9cf-025af3129ea5"
      },
      "execution_count": 28,
      "outputs": [
        {
          "output_type": "display_data",
          "data": {
            "text/plain": [
              "<Figure size 1000x800 with 1 Axes>"
            ],
            "image/png": "[encoded data removed]"
          },
          "metadata": {}
        }
      ]
    },
    {
      "cell_type": "markdown",
      "source": [
        "> 1. Does the scatter plot confirm a strong positive correlation between Weight and BMI?\n",
        "\n",
        "> Answer : YES, with increase in weight BMI also icreases linearly"
      ],
      "metadata": {
        "id": "IJUlaoZxaYIB"
      }
    },
    {
      "cell_type": "markdown",
      "source": [
        "> 2. Is the red trend line steep or gradual? What does that indicate about how weight affects BMI?\n",
        "\n",
        "> Answer : it's steep, and the line suggests a strong positive correlation between weight and BMI, meaning that as weight increases, BMI generally increases as well."
      ],
      "metadata": {
        "id": "KZtKgDXtahw5"
      }
    },
    {
      "cell_type": "markdown",
      "source": [
        "**Pie Chart for Blood Type Distribution**"
      ],
      "metadata": {
        "id": "VnMJroN5SnWf"
      }
    },
    {
      "cell_type": "code",
      "source": [
        "# Pie chart for Blood Type distribution\n",
        "blood_type_counts = df1['Blood Type'].value_counts()\n",
        "plt.pie(blood_type_counts, labels=blood_type_counts.index, autopct='%1.1f%%')\n",
        "plt.title('Blood Type Distribution')\n",
        "plt.axis('equal')  # Equal aspect ratio ensures the pie chart is circular.\n",
        "plt.show()"
      ],
      "metadata": {
        "colab": {
          "base_uri": "https://localhost:8080/",
          "height": 428
        },
        "id": "YESdWffzSiZg",
        "outputId": "900dc79e-6339-4c1a-a077-17d2d6ac1636"
      },
      "execution_count": 29,
      "outputs": [
        {
          "output_type": "display_data",
          "data": {
            "text/plain": [
              "<Figure size 640x480 with 1 Axes>"
            ],
            "image/png": "[encoded data removed]"
          },
          "metadata": {}
        }
      ]
    },
    {
      "cell_type": "markdown",
      "source": [
        "> 1. Which blood type is the most common among students?\n",
        "\n",
        "> Answer : B"
      ],
      "metadata": {
        "id": "phfTHaZXTDNw"
      }
    },
    {
      "cell_type": "markdown",
      "source": [
        "> 2. Which blood type is the least common?\n",
        "\n",
        "> Answer : AB"
      ],
      "metadata": {
        "id": "uAdyjAOZTJqH"
      }
    },
    {
      "cell_type": "markdown",
      "source": [
        "**Heatmap for Correlation Matrix**"
      ],
      "metadata": {
        "id": "TE0Th_2TbF14"
      }
    },
    {
      "cell_type": "code",
      "source": [
        "# Compute correlation matrix\n",
        "corr = df1[['Age', 'Height', 'Weight', 'BMI', 'Temperature', 'Heart Rate', 'Blood Pressure', 'Cholesterol']].corr()\n",
        "# Set figure size\n",
        "plt.figure(figsize=(8, 6))  # Increase the figure size (width, height)\n",
        "# Plot a heatmap of the correlation matrix with annotations and the 'coolwarm' color map\n",
        "sns.heatmap(corr, annot=True, cmap='coolwarm')\n",
        "# Show the plot\n",
        "plt.show()"
      ],
      "metadata": {
        "colab": {
          "base_uri": "https://localhost:8080/",
          "height": 617
        },
        "id": "uDB0EGuQUc2Q",
        "outputId": "3b925668-df81-4d08-b8b1-524e3e9fd957"
      },
      "execution_count": 30,
      "outputs": [
        {
          "output_type": "display_data",
          "data": {
            "text/plain": [
              "<Figure size 800x600 with 2 Axes>"
            ],
            "image/png": "[encoded data removed]"
          },
          "metadata": {}
        }
      ]
    },
    {
      "cell_type": "markdown",
      "source": [
        "> 1. Which columns are most strongly correlated with each other?\n",
        "\n",
        "> Answer : Weight and BMI"
      ],
      "metadata": {
        "id": "ipR-cTDMZA9i"
      }
    },
    {
      "cell_type": "markdown",
      "source": [
        "> 2. Which columns show the weakest correlation with each other?\n",
        "\n",
        "> Answer :Age and Weight"
      ],
      "metadata": {
        "id": "JesEBqUHZzy2"
      }
    },
    {
      "cell_type": "markdown",
      "source": [
        "> 3. Based on the correlation matrix, do taller individuals tend to weigh more?\n",
        "\n",
        "> Answer : yes"
      ],
      "metadata": {
        "id": "cvqHT9z8aejS"
      }
    },
    {
      "cell_type": "markdown",
      "source": [
        "### 6. Data Preparation\n",
        "\n",
        "> Two main goals in data pre-processing:\n",
        "\n",
        "1. Clean the data to address data quality issues (We've already done this part).\n",
        "\n",
        "2. Transform the raw data to make it suitable for model building."
      ],
      "metadata": {
        "id": "IkWZiQP0eluw"
      }
    },
    {
      "cell_type": "code",
      "source": [
        "# check for categorical columns to convert it into numerical form for model building\n",
        "cat_cols"
      ],
      "metadata": {
        "colab": {
          "base_uri": "https://localhost:8080/",
          "height": 0
        },
        "id": "siloYb9EXRMT",
        "outputId": "e99cd064-3269-491b-c74a-ef0f5c844f0d"
      },
      "execution_count": 31,
      "outputs": [
        {
          "output_type": "execute_result",
          "data": {
            "text/plain": [
              "['Gender', 'Blood Type', 'Diabetes', 'Smoking']"
            ]
          },
          "metadata": {},
          "execution_count": 31
        }
      ]
    },
    {
      "cell_type": "markdown",
      "source": [
        "> Use **LabelEncoder** to transform our categorical column into numerical format.\n",
        "\n",
        "> Example code :"
      ],
      "metadata": {
        "id": "jBIgGIBCZreB"
      }
    },
    {
      "cell_type": "code",
      "source": [
        "from sklearn.preprocessing import LabelEncoder\n",
        "\n",
        "label_encoder = LabelEncoder()\n",
        "print(\"Gender dtype before encoding : \", df1['Gender'].dtypes)\n",
        "df1['Gender'] = label_encoder.fit_transform(df1['Gender'])\n",
        "print(\"Gender dtype after encoding : \", df1['Gender'].dtypes)\n",
        "\n"
      ],
      "metadata": {
        "colab": {
          "base_uri": "https://localhost:8080/",
          "height": 0
        },
        "id": "dFkK3o7sawVX",
        "outputId": "38c1f595-b59c-45a0-e0c1-99895b653163"
      },
      "execution_count": 45,
      "outputs": [
        {
          "output_type": "stream",
          "name": "stdout",
          "text": [
            "Gender dtype before encoding :  int64\n",
            "Gender dtype after encoding :  int64\n"
          ]
        }
      ]
    },
    {
      "cell_type": "markdown",
      "source": [
        "> Similarly do for other categorical columns"
      ],
      "metadata": {
        "id": "kOud_GDWaEu6"
      }
    },
    {
      "cell_type": "code",
      "source": [
        "# Your code here\n",
        "label_encoder = LabelEncoder()\n",
        "print(\"Blood Type dtype before encoding : \", df1['Blood Type'].dtypes)\n",
        "df1['Blood Type'] = label_encoder.fit_transform(df1['Blood Type'])\n",
        "print(\"Blood dtype after encoding : \", df1['Blood Type'].dtypes)\n",
        "\n",
        "\n"
      ],
      "metadata": {
        "id": "OUjv_9gwhN44",
        "colab": {
          "base_uri": "https://localhost:8080/",
          "height": 0
        },
        "outputId": "fd15530b-c85f-4822-d4eb-54ae831077ef"
      },
      "execution_count": 33,
      "outputs": [
        {
          "output_type": "stream",
          "name": "stdout",
          "text": [
            "Blood Type dtype before encoding :  object\n",
            "Blood dtype after encoding :  int64\n"
          ]
        }
      ]
    },
    {
      "cell_type": "markdown",
      "source": [
        "> The below code is performing feature scaling using StandardScaler to standardize (normalize) our numerical features to improve model performance."
      ],
      "metadata": {
        "id": "zlQtMvRich8G"
      }
    },
    {
      "cell_type": "code",
      "source": [
        "from sklearn.preprocessing import StandardScaler\n",
        "\n",
        "scaler = StandardScaler()\n",
        "numerical_features = ['Age', 'Height', 'Weight', 'BMI', 'Temperature', 'Heart Rate', 'Blood Pressure', 'Cholesterol']\n",
        "df1[numerical_features] = scaler.fit_transform(df1[numerical_features])\n",
        "df1.head()"
      ],
      "metadata": {
        "colab": {
          "base_uri": "https://localhost:8080/",
          "height": 244
        },
        "id": "f8AJM6qrrRYo",
        "outputId": "9b9828b7-8e4d-4a1c-c3b2-bee24dad9a4c"
      },
      "execution_count": 34,
      "outputs": [
        {
          "output_type": "execute_result",
          "data": {
            "text/plain": [
              "   Student ID       Age  Gender    Height    Weight  Blood Type       BMI  \\\n",
              "0     48419.0  1.632303       1 -0.149278 -1.516653           3 -1.232759   \n",
              "1     64979.0 -0.212278       0 -1.372715 -0.945109           1 -0.161694   \n",
              "2     37531.0 -0.417232       1  0.150667 -1.624329           2 -1.415721   \n",
              "3     36473.0  1.632303       1  0.876610  0.759418           1  0.044085   \n",
              "4     13960.0  0.607536       1 -0.006857  1.307641           1  1.705135   \n",
              "\n",
              "   Temperature  Heart Rate  Blood Pressure  Cholesterol Diabetes Smoking  \n",
              "0     0.970335    1.100792        0.240647    -0.459951      Yes      No  \n",
              "1    -0.726237   -1.110506       -1.150786    -1.601632       No      No  \n",
              "2     1.298217   -0.049083        0.797220     1.026889       No     Yes  \n",
              "3    -0.275013   -1.287410       -1.359501    -0.645806       No      No  \n",
              "4    -0.298453   -0.402891       -0.246355    -0.566154       No      No  "
            ],
            "text/html": [
              "\n",
              "  <div id=\"df-00cb4656-5d6e-4a2d-b50a-aaef4700de76\" class=\"colab-df-container\">\n",
              "    <div>\n",
              "<style scoped>\n",
              "    .dataframe tbody tr th:only-of-type {\n",
              "        vertical-align: middle;\n",
              "    }\n",
              "\n",
              "    .dataframe tbody tr th {\n",
              "        vertical-align: top;\n",
              "    }\n",
              "\n",
              "    .dataframe thead th {\n",
              "        text-align: right;\n",
              "    }\n",
              "</style>\n",
              "<table border=\"1\" class=\"dataframe\">\n",
              "  <thead>\n",
              "    <tr style=\"text-align: right;\">\n",
              "      <th></th>\n",
              "      <th>Student ID</th>\n",
              "      <th>Age</th>\n",
              "      <th>Gender</th>\n",
              "      <th>Height</th>\n",
              "      <th>Weight</th>\n",
              "      <th>Blood Type</th>\n",
              "      <th>BMI</th>\n",
              "      <th>Temperature</th>\n",
              "      <th>Heart Rate</th>\n",
              "      <th>Blood Pressure</th>\n",
              "      <th>Cholesterol</th>\n",
              "      <th>Diabetes</th>\n",
              "      <th>Smoking</th>\n",
              "    </tr>\n",
              "  </thead>\n",
              "  <tbody>\n",
              "    <tr>\n",
              "      <th>0</th>\n",
              "      <td>48419.0</td>\n",
              "      <td>1.632303</td>\n",
              "      <td>1</td>\n",
              "      <td>-0.149278</td>\n",
              "      <td>-1.516653</td>\n",
              "      <td>3</td>\n",
              "      <td>-1.232759</td>\n",
              "      <td>0.970335</td>\n",
              "      <td>1.100792</td>\n",
              "      <td>0.240647</td>\n",
              "      <td>-0.459951</td>\n",
              "      <td>Yes</td>\n",
              "      <td>No</td>\n",
              "    </tr>\n",
              "    <tr>\n",
              "      <th>1</th>\n",
              "      <td>64979.0</td>\n",
              "      <td>-0.212278</td>\n",
              "      <td>0</td>\n",
              "      <td>-1.372715</td>\n",
              "      <td>-0.945109</td>\n",
              "      <td>1</td>\n",
              "      <td>-0.161694</td>\n",
              "      <td>-0.726237</td>\n",
              "      <td>-1.110506</td>\n",
              "      <td>-1.150786</td>\n",
              "      <td>-1.601632</td>\n",
              "      <td>No</td>\n",
              "      <td>No</td>\n",
              "    </tr>\n",
              "    <tr>\n",
              "      <th>2</th>\n",
              "      <td>37531.0</td>\n",
              "      <td>-0.417232</td>\n",
              "      <td>1</td>\n",
              "      <td>0.150667</td>\n",
              "      <td>-1.624329</td>\n",
              "      <td>2</td>\n",
              "      <td>-1.415721</td>\n",
              "      <td>1.298217</td>\n",
              "      <td>-0.049083</td>\n",
              "      <td>0.797220</td>\n",
              "      <td>1.026889</td>\n",
              "      <td>No</td>\n",
              "      <td>Yes</td>\n",
              "    </tr>\n",
              "    <tr>\n",
              "      <th>3</th>\n",
              "      <td>36473.0</td>\n",
              "      <td>1.632303</td>\n",
              "      <td>1</td>\n",
              "      <td>0.876610</td>\n",
              "      <td>0.759418</td>\n",
              "      <td>1</td>\n",
              "      <td>0.044085</td>\n",
              "      <td>-0.275013</td>\n",
              "      <td>-1.287410</td>\n",
              "      <td>-1.359501</td>\n",
              "      <td>-0.645806</td>\n",
              "      <td>No</td>\n",
              "      <td>No</td>\n",
              "    </tr>\n",
              "    <tr>\n",
              "      <th>4</th>\n",
              "      <td>13960.0</td>\n",
              "      <td>0.607536</td>\n",
              "      <td>1</td>\n",
              "      <td>-0.006857</td>\n",
              "      <td>1.307641</td>\n",
              "      <td>1</td>\n",
              "      <td>1.705135</td>\n",
              "      <td>-0.298453</td>\n",
              "      <td>-0.402891</td>\n",
              "      <td>-0.246355</td>\n",
              "      <td>-0.566154</td>\n",
              "      <td>No</td>\n",
              "      <td>No</td>\n",
              "    </tr>\n",
              "  </tbody>\n",
              "</table>\n",
              "</div>\n",
              "    <div class=\"colab-df-buttons\">\n",
              "\n",
              "  <div class=\"colab-df-container\">\n",
              "    <button class=\"colab-df-convert\" onclick=\"convertToInteractive('df-00cb4656-5d6e-4a2d-b50a-aaef4700de76')\"\n",
              "            title=\"Convert this dataframe to an interactive table.\"\n",
              "            style=\"display:none;\">\n",
              "\n",
              "  <svg xmlns=\"http://www.w3.org/2000/svg\" height=\"24px\" viewBox=\"0 -960 960 960\">\n",
              "    <path d=\"M120-120v-720h720v720H120Zm60-500h600v-160H180v160Zm220 220h160v-160H400v160Zm0 220h160v-160H400v160ZM180-400h160v-160H180v160Zm440 0h160v-160H620v160ZM180-180h160v-160H180v160Zm440 0h160v-160H620v160Z\"/>\n",
              "  </svg>\n",
              "    </button>\n",
              "\n",
              "  <style>\n",
              "    .colab-df-container {\n",
              "      display:flex;\n",
              "      gap: 12px;\n",
              "    }\n",
              "\n",
              "    .colab-df-convert {\n",
              "      background-color: #E8F0FE;\n",
              "      border: none;\n",
              "      border-radius: 50%;\n",
              "      cursor: pointer;\n",
              "      display: none;\n",
              "      fill: #1967D2;\n",
              "      height: 32px;\n",
              "      padding: 0 0 0 0;\n",
              "      width: 32px;\n",
              "    }\n",
              "\n",
              "    .colab-df-convert:hover {\n",
              "      background-color: #E2EBFA;\n",
              "      box-shadow: 0px 1px 2px rgba(60, 64, 67, 0.3), 0px 1px 3px 1px rgba(60, 64, 67, 0.15);\n",
              "      fill: #174EA6;\n",
              "    }\n",
              "\n",
              "    .colab-df-buttons div {\n",
              "      margin-bottom: 4px;\n",
              "    }\n",
              "\n",
              "    [theme=dark] .colab-df-convert {\n",
              "      background-color: #3B4455;\n",
              "      fill: #D2E3FC;\n",
              "    }\n",
              "\n",
              "    [theme=dark] .colab-df-convert:hover {\n",
              "      background-color: #434B5C;\n",
              "      box-shadow: 0px 1px 3px 1px rgba(0, 0, 0, 0.15);\n",
              "      filter: drop-shadow(0px 1px 2px rgba(0, 0, 0, 0.3));\n",
              "      fill: #FFFFFF;\n",
              "    }\n",
              "  </style>\n",
              "\n",
              "    <script>\n",
              "      const buttonEl =\n",
              "        document.querySelector('#df-00cb4656-5d6e-4a2d-b50a-aaef4700de76 button.colab-df-convert');\n",
              "      buttonEl.style.display =\n",
              "        google.colab.kernel.accessAllowed ? 'block' : 'none';\n",
              "\n",
              "      async function convertToInteractive(key) {\n",
              "        const element = document.querySelector('#df-00cb4656-5d6e-4a2d-b50a-aaef4700de76');\n",
              "        const dataTable =\n",
              "          await google.colab.kernel.invokeFunction('convertToInteractive',\n",
              "                                                    [key], {});\n",
              "        if (!dataTable) return;\n",
              "\n",
              "        const docLinkHtml = 'Like what you see? Visit the ' +\n",
              "          '<a target=\"_blank\" href=https://colab.research.google.com/notebooks/data_table.ipynb>data table notebook</a>'\n",
              "          + ' to learn more about interactive tables.';\n",
              "        element.innerHTML = '';\n",
              "        dataTable['output_type'] = 'display_data';\n",
              "        await google.colab.output.renderOutput(dataTable, element);\n",
              "        const docLink = document.createElement('div');\n",
              "        docLink.innerHTML = docLinkHtml;\n",
              "        element.appendChild(docLink);\n",
              "      }\n",
              "    </script>\n",
              "  </div>\n",
              "\n",
              "\n",
              "<div id=\"df-2a7c60d1-f1e3-4d7d-a163-c018f07763ac\">\n",
              "  <button class=\"colab-df-quickchart\" onclick=\"quickchart('df-2a7c60d1-f1e3-4d7d-a163-c018f07763ac')\"\n",
              "            title=\"Suggest charts\"\n",
              "            style=\"display:none;\">\n",
              "\n",
              "<svg xmlns=\"http://www.w3.org/2000/svg\" height=\"24px\"viewBox=\"0 0 24 24\"\n",
              "     width=\"24px\">\n",
              "    <g>\n",
              "        <path d=\"M19 3H5c-1.1 0-2 .9-2 2v14c0 1.1.9 2 2 2h14c1.1 0 2-.9 2-2V5c0-1.1-.9-2-2-2zM9 17H7v-7h2v7zm4 0h-2V7h2v10zm4 0h-2v-4h2v4z\"/>\n",
              "    </g>\n",
              "</svg>\n",
              "  </button>\n",
              "\n",
              "<style>\n",
              "  .colab-df-quickchart {\n",
              "      --bg-color: #E8F0FE;\n",
              "      --fill-color: #1967D2;\n",
              "      --hover-bg-color: #E2EBFA;\n",
              "      --hover-fill-color: #174EA6;\n",
              "      --disabled-fill-color: #AAA;\n",
              "      --disabled-bg-color: #DDD;\n",
              "  }\n",
              "\n",
              "  [theme=dark] .colab-df-quickchart {\n",
              "      --bg-color: #3B4455;\n",
              "      --fill-color: #D2E3FC;\n",
              "      --hover-bg-color: #434B5C;\n",
              "      --hover-fill-color: #FFFFFF;\n",
              "      --disabled-bg-color: #3B4455;\n",
              "      --disabled-fill-color: #666;\n",
              "  }\n",
              "\n",
              "  .colab-df-quickchart {\n",
              "    background-color: var(--bg-color);\n",
              "    border: none;\n",
              "    border-radius: 50%;\n",
              "    cursor: pointer;\n",
              "    display: none;\n",
              "    fill: var(--fill-color);\n",
              "    height: 32px;\n",
              "    padding: 0;\n",
              "    width: 32px;\n",
              "  }\n",
              "\n",
              "  .colab-df-quickchart:hover {\n",
              "    background-color: var(--hover-bg-color);\n",
              "    box-shadow: 0 1px 2px rgba(60, 64, 67, 0.3), 0 1px 3px 1px rgba(60, 64, 67, 0.15);\n",
              "    fill: var(--button-hover-fill-color);\n",
              "  }\n",
              "\n",
              "  .colab-df-quickchart-complete:disabled,\n",
              "  .colab-df-quickchart-complete:disabled:hover {\n",
              "    background-color: var(--disabled-bg-color);\n",
              "    fill: var(--disabled-fill-color);\n",
              "    box-shadow: none;\n",
              "  }\n",
              "\n",
              "  .colab-df-spinner {\n",
              "    border: 2px solid var(--fill-color);\n",
              "    border-color: transparent;\n",
              "    border-bottom-color: var(--fill-color);\n",
              "    animation:\n",
              "      spin 1s steps(1) infinite;\n",
              "  }\n",
              "\n",
              "  @keyframes spin {\n",
              "    0% {\n",
              "      border-color: transparent;\n",
              "      border-bottom-color: var(--fill-color);\n",
              "      border-left-color: var(--fill-color);\n",
              "    }\n",
              "    20% {\n",
              "      border-color: transparent;\n",
              "      border-left-color: var(--fill-color);\n",
              "      border-top-color: var(--fill-color);\n",
              "    }\n",
              "    30% {\n",
              "      border-color: transparent;\n",
              "      border-left-color: var(--fill-color);\n",
              "      border-top-color: var(--fill-color);\n",
              "      border-right-color: var(--fill-color);\n",
              "    }\n",
              "    40% {\n",
              "      border-color: transparent;\n",
              "      border-right-color: var(--fill-color);\n",
              "      border-top-color: var(--fill-color);\n",
              "    }\n",
              "    60% {\n",
              "      border-color: transparent;\n",
              "      border-right-color: var(--fill-color);\n",
              "    }\n",
              "    80% {\n",
              "      border-color: transparent;\n",
              "      border-right-color: var(--fill-color);\n",
              "      border-bottom-color: var(--fill-color);\n",
              "    }\n",
              "    90% {\n",
              "      border-color: transparent;\n",
              "      border-bottom-color: var(--fill-color);\n",
              "    }\n",
              "  }\n",
              "</style>\n",
              "\n",
              "  <script>\n",
              "    async function quickchart(key) {\n",
              "      const quickchartButtonEl =\n",
              "        document.querySelector('#' + key + ' button');\n",
              "      quickchartButtonEl.disabled = true;  // To prevent multiple clicks.\n",
              "      quickchartButtonEl.classList.add('colab-df-spinner');\n",
              "      try {\n",
              "        const charts = await google.colab.kernel.invokeFunction(\n",
              "            'suggestCharts', [key], {});\n",
              "      } catch (error) {\n",
              "        console.error('Error during call to suggestCharts:', error);\n",
              "      }\n",
              "      quickchartButtonEl.classList.remove('colab-df-spinner');\n",
              "      quickchartButtonEl.classList.add('colab-df-quickchart-complete');\n",
              "    }\n",
              "    (() => {\n",
              "      let quickchartButtonEl =\n",
              "        document.querySelector('#df-2a7c60d1-f1e3-4d7d-a163-c018f07763ac button');\n",
              "      quickchartButtonEl.style.display =\n",
              "        google.colab.kernel.accessAllowed ? 'block' : 'none';\n",
              "    })();\n",
              "  </script>\n",
              "</div>\n",
              "\n",
              "    </div>\n",
              "  </div>\n"
            ],
            "application/vnd.google.colaboratory.intrinsic+json": {
              "type": "dataframe",
              "variable_name": "df1",
              "summary": "{\n  \"name\": \"df1\",\n  \"rows\": 44854,\n  \"fields\": [\n    {\n      \"column\": \"Student ID\",\n      \"properties\": {\n        \"dtype\": \"number\",\n        \"std\": 28829.70349957952,\n        \"min\": 2.0,\n        \"max\": 99999.0,\n        \"num_unique_values\": 43740,\n        \"samples\": [\n          50992.0,\n          43050.0,\n          68411.0\n        ],\n        \"semantic_type\": \"\",\n        \"description\": \"\"\n      }\n    },\n    {\n      \"column\": \"Age\",\n      \"properties\": {\n        \"dtype\": \"number\",\n        \"std\": 1.0000111474642783,\n        \"min\": -1.6469524505518107,\n        \"max\": 1.6323031252741071,\n        \"num_unique_values\": 17,\n        \"samples\": [\n          1.6323031252741071,\n          -0.21227813612797158,\n          -0.0073246626388517215\n        ],\n        \"semantic_type\": \"\",\n        \"description\": \"\"\n      }\n    },\n    {\n      \"column\": \"Gender\",\n      \"properties\": {\n        \"dtype\": \"number\",\n        \"std\": 0,\n        \"min\": 0,\n        \"max\": 1,\n        \"num_unique_values\": 2,\n        \"samples\": [\n          0,\n          1\n        ],\n        \"semantic_type\": \"\",\n        \"description\": \"\"\n      }\n    },\n    {\n      \"column\": \"Height\",\n      \"properties\": {\n        \"dtype\": \"number\",\n        \"std\": 1.0000111474642364,\n        \"min\": -1.7497103876305211,\n        \"max\": 1.761026024155494,\n        \"num_unique_values\": 42799,\n        \"samples\": [\n          1.0281007868836811,\n          -1.2622348667496976\n        ],\n        \"semantic_type\": \"\",\n        \"description\": \"\"\n      }\n    },\n    {\n      \"column\": \"Weight\",\n      \"properties\": {\n        \"dtype\": \"number\",\n        \"std\": 1.0000111474642315,\n        \"min\": -1.7338545661631302,\n        \"max\": 1.7310769870746041,\n        \"num_unique_values\": 43740,\n        \"samples\": [\n          -1.1279030280859708,\n          0.5094551194024765\n        ],\n        \"semantic_type\": \"\",\n        \"description\": \"\"\n      }\n    },\n    {\n      \"column\": \"Blood Type\",\n      \"properties\": {\n        \"dtype\": \"number\",\n        \"std\": 1,\n        \"min\": 0,\n        \"max\": 3,\n        \"num_unique_values\": 4,\n        \"samples\": [\n          1,\n          0\n        ],\n        \"semantic_type\": \"\",\n        \"description\": \"\"\n      }\n    },\n    {\n      \"column\": \"BMI\",\n      \"properties\": {\n        \"dtype\": \"number\",\n        \"std\": 1.0000111474642364,\n        \"min\": -1.8809484039052342,\n        \"max\": 2.8352901584348884,\n        \"num_unique_values\": 43706,\n        \"samples\": [\n          1.7297179301127603,\n          -0.47357320934858066\n        ],\n        \"semantic_type\": \"\",\n        \"description\": \"\"\n      }\n    },\n    {\n      \"column\": \"Temperature\",\n      \"properties\": {\n        \"dtype\": \"number\",\n        \"std\": 1.0000111474642301,\n        \"min\": -2.721700531153536,\n        \"max\": 2.7298813814848852,\n        \"num_unique_values\": 43445,\n        \"samples\": [\n          0.5324202393358135,\n          0.09408616222890069\n        ],\n        \"semantic_type\": \"\",\n        \"description\": \"\"\n      }\n    },\n    {\n      \"column\": \"Heart Rate\",\n      \"properties\": {\n        \"dtype\": \"number\",\n        \"std\": 1.0000111474642202,\n        \"min\": -1.7296691495137688,\n        \"max\": 1.7199550977458107,\n        \"num_unique_values\": 40,\n        \"samples\": [\n          1.4545993864181508,\n          0.3931765411075109\n        ],\n        \"semantic_type\": \"\",\n        \"description\": \"\"\n      }\n    },\n    {\n      \"column\": \"Blood Pressure\",\n      \"properties\": {\n        \"dtype\": \"number\",\n        \"std\": 1.0000111474643407,\n        \"min\": -1.7073596397517683,\n        \"max\": 1.7016517049153996,\n        \"num_unique_values\": 50,\n        \"samples\": [\n          -0.8029280585135401,\n          -0.45506975803729854\n        ],\n        \"semantic_type\": \"\",\n        \"description\": \"\"\n      }\n    },\n    {\n      \"column\": \"Cholesterol\",\n      \"properties\": {\n        \"dtype\": \"number\",\n        \"std\": 1.0000111474642135,\n        \"min\": -1.7078349173010918,\n        \"max\": 1.7172076390372222,\n        \"num_unique_values\": 130,\n        \"samples\": [\n          -0.5396033476973258,\n          1.0799904192533498\n        ],\n        \"semantic_type\": \"\",\n        \"description\": \"\"\n      }\n    },\n    {\n      \"column\": \"Diabetes\",\n      \"properties\": {\n        \"dtype\": \"category\",\n        \"num_unique_values\": 2,\n        \"samples\": [\n          \"No\",\n          \"Yes\"\n        ],\n        \"semantic_type\": \"\",\n        \"description\": \"\"\n      }\n    },\n    {\n      \"column\": \"Smoking\",\n      \"properties\": {\n        \"dtype\": \"category\",\n        \"num_unique_values\": 2,\n        \"samples\": [\n          \"Yes\",\n          \"No\"\n        ],\n        \"semantic_type\": \"\",\n        \"description\": \"\"\n      }\n    }\n  ]\n}"
            }
          },
          "metadata": {},
          "execution_count": 34
        }
      ]
    },
    {
      "cell_type": "markdown",
      "source": [
        "### 7. Model Building\n",
        "\n",
        "In this section, we'll focus on building a predictive model using the 'Diabetes' column as our target variable. The goal is to predict whether a person has diabetes or not based on other features."
      ],
      "metadata": {
        "id": "Zj9MKhoTh87E"
      }
    },
    {
      "cell_type": "markdown",
      "source": [
        "**Splitting our features and target**"
      ],
      "metadata": {
        "id": "tuS-H1Fcngwf"
      }
    },
    {
      "cell_type": "code",
      "source": [
        "# Split the dataset into training and testing sets (assuming df1 is preprocessed)\n",
        "X = df1.drop(columns=['Diabetes'])  # Replace 'Target' with your actual target column\n",
        "y = df1['Diabetes']  # Define the target variable"
      ],
      "metadata": {
        "id": "cmJw_oX3fL6e"
      },
      "execution_count": 40,
      "outputs": []
    },
    {
      "cell_type": "markdown",
      "source": [
        "**Split data into training and testing set**"
      ],
      "metadata": {
        "id": "ZNOuCeW8otAt"
      }
    },
    {
      "cell_type": "code",
      "source": [
        "from sklearn.model_selection import train_test_split\n",
        "\n",
        "# Splitting the dataset into 80% training and 20% testing\n",
        "X_train, X_test, y_train, y_test = train_test_split(X, y, test_size=0.2, random_state=42)\n",
        "\n",
        "# Print the shape of the resulting datasets\n",
        "print(f\"X_train shape: {X_train.shape}\")\n",
        "print(f\"X_test shape: {X_test.shape}\")\n",
        "print(f\"y_train shape: {y_train.shape}\")\n",
        "print(f\"y_test shape: {y_test.shape}\")"
      ],
      "metadata": {
        "colab": {
          "base_uri": "https://localhost:8080/",
          "height": 0
        },
        "id": "0BT_V5CLosiO",
        "outputId": "7ac2e4cd-fca0-4017-9519-c8846931e92b"
      },
      "execution_count": 47,
      "outputs": [
        {
          "output_type": "stream",
          "name": "stdout",
          "text": [
            "X_train shape: (35883, 12), X_test shape: (8971, 12)\n",
            "y_train shape: (35883,), y_test shape: (8971,)\n"
          ]
        }
      ]
    },
    {
      "cell_type": "markdown",
      "source": [
        "**Model Training**"
      ],
      "metadata": {
        "id": "ToNpEoBvpHqL"
      }
    },
    {
      "cell_type": "markdown",
      "source": [
        "> For this workshop we will be training our model using the below ML algorithms as well as compare them.\n",
        "\n",
        "* Logistic Regression\n",
        "* Support Vector Machine (SVM)\n",
        "* Random Forest\n",
        "* K-Nearest Neighbors"
      ],
      "metadata": {
        "id": "JPQ3dYZEgBwu"
      }
    },
    {
      "cell_type": "code",
      "source": [
        "# Import Necessary Libraries for Model Building\n",
        "from sklearn.svm import SVC\n",
        "from sklearn.linear_model import LogisticRegression\n",
        "from sklearn.ensemble import RandomForestClassifier\n",
        "from sklearn.neighbors import KNeighborsClassifier\n",
        "from sklearn.metrics import accuracy_score, classification_report, confusion_matrix"
      ],
      "metadata": {
        "id": "1vpBlJPjoJv1"
      },
      "execution_count": 42,
      "outputs": []
    },
    {
      "cell_type": "markdown",
      "source": [
        "> Logistic Regression"
      ],
      "metadata": {
        "id": "5bcMJCqVform"
      }
    },
    {
      "cell_type": "code",
      "source": [
        "# Check data types in X_train\n",
        "print(X_train.dtypes)\n",
        "\n",
        "# Find categorical columns (dtype = object)\n",
        "categorical_cols = X_train.select_dtypes(include=['object']).columns.tolist()\n",
        "print(\"Categorical columns in X_train:\", categorical_cols)\n"
      ],
      "metadata": {
        "id": "uRN0Lp9scmGi",
        "colab": {
          "base_uri": "https://localhost:8080/",
          "height": 0
        },
        "outputId": "8e2b8f17-ab56-45bb-cdc9-dd63c385d4c5"
      },
      "execution_count": 50,
      "outputs": [
        {
          "output_type": "stream",
          "name": "stdout",
          "text": [
            "Student ID        float64\n",
            "Age               float64\n",
            "Gender              int64\n",
            "Height            float64\n",
            "Weight            float64\n",
            "Blood Type          int64\n",
            "BMI               float64\n",
            "Temperature       float64\n",
            "Heart Rate        float64\n",
            "Blood Pressure    float64\n",
            "Cholesterol       float64\n",
            "Smoking            object\n",
            "dtype: object\n",
            "Categorical columns in X_train: ['Smoking']\n"
          ]
        }
      ]
    },
    {
      "cell_type": "code",
      "source": [
        "from sklearn.preprocessing import LabelEncoder\n",
        "\n",
        "# Apply Label Encoding to all categorical columns in X_train & X_test\n",
        "label_encoder = LabelEncoder()\n",
        "for col in categorical_cols:\n",
        "    X_train[col] = label_encoder.fit_transform(X_train[col])\n",
        "    X_test[col] = label_encoder.transform(X_test[col])  # Use the same encoding for test data\n",
        "\n",
        "# Verify X_train is now fully numeric\n",
        "print(X_train.dtypes)\n"
      ],
      "metadata": {
        "colab": {
          "base_uri": "https://localhost:8080/",
          "height": 0
        },
        "id": "pXRvZmW0tjw_",
        "outputId": "18a6ef8b-a111-497d-84f0-67550c30e5c9"
      },
      "execution_count": 51,
      "outputs": [
        {
          "output_type": "stream",
          "name": "stdout",
          "text": [
            "Student ID        float64\n",
            "Age               float64\n",
            "Gender              int64\n",
            "Height            float64\n",
            "Weight            float64\n",
            "Blood Type          int64\n",
            "BMI               float64\n",
            "Temperature       float64\n",
            "Heart Rate        float64\n",
            "Blood Pressure    float64\n",
            "Cholesterol       float64\n",
            "Smoking             int64\n",
            "dtype: object\n"
          ]
        }
      ]
    },
    {
      "cell_type": "code",
      "source": [
        "from sklearn.preprocessing import StandardScaler\n",
        "\n",
        "# Standardize X_train and X_test\n",
        "scaler = StandardScaler()\n",
        "X_train = scaler.fit_transform(X_train)\n",
        "X_test = scaler.transform(X_test)\n",
        "\n",
        "# Now train Logistic Regression model\n",
        "model1 = LogisticRegression()\n",
        "model1.fit(X_train, y_train)\n",
        "y_pred1 = model1.predict(X_test)\n",
        "\n",
        "# Evaluate performance\n",
        "accuracy1 = accuracy_score(y_test, y_pred1)\n",
        "print(f\"Logistic Regression Accuracy: {accuracy1}\")\n"
      ],
      "metadata": {
        "colab": {
          "base_uri": "https://localhost:8080/",
          "height": 0
        },
        "id": "PhtjF_rytnH-",
        "outputId": "ad7ef7f0-a266-403f-e309-b501da4da695"
      },
      "execution_count": 53,
      "outputs": [
        {
          "output_type": "stream",
          "name": "stdout",
          "text": [
            "Logistic Regression Accuracy: 0.899676736149816\n"
          ]
        }
      ]
    },
    {
      "cell_type": "markdown",
      "source": [
        "> Support Vector Machine (SVM)"
      ],
      "metadata": {
        "id": "CSP1kiF0hQ5I"
      }
    },
    {
      "cell_type": "code",
      "source": [
        "model2 = SVC(kernel='linear')  # Initialize SVM model with linear kernel\n",
        "model2.fit(X_train, y_train)  # Train the model on training data\n",
        "y_pred2 = model2.predict(X_test)  # Predict target values for test set\n",
        "accuracy2 = accuracy_score(y_test, y_pred2)  # Calculate model accuracy\n",
        "accuracy2"
      ],
      "metadata": {
        "id": "E1z3rC_ReoQ2",
        "colab": {
          "base_uri": "https://localhost:8080/",
          "height": 0
        },
        "outputId": "6f52027e-d589-4a75-cd14-d688979ecef2"
      },
      "execution_count": 54,
      "outputs": [
        {
          "output_type": "execute_result",
          "data": {
            "text/plain": [
              "0.899676736149816"
            ]
          },
          "metadata": {},
          "execution_count": 54
        }
      ]
    },
    {
      "cell_type": "markdown",
      "source": [
        "> Random Forest"
      ],
      "metadata": {
        "id": "IYBdobbnibRP"
      }
    },
    {
      "cell_type": "code",
      "source": [
        "model3 = RandomForestClassifier(n_estimators=100, random_state=42)  # Initialize Random Forest with 100 trees\n",
        "model3.fit(X_train, y_train)  # Train the model on training data\n",
        "y_pred3 = model3.predict(X_test)  # Predict target values for test set\n",
        "accuracy3 = accuracy_score(y_test, y_pred3)  # Calculate model accuracy\n",
        "accuracy3"
      ],
      "metadata": {
        "id": "VQK8o3L_iay5",
        "colab": {
          "base_uri": "https://localhost:8080/",
          "height": 0
        },
        "outputId": "599fefc2-062b-451c-c1e1-3c9d81b73c96"
      },
      "execution_count": 55,
      "outputs": [
        {
          "output_type": "execute_result",
          "data": {
            "text/plain": [
              "0.9019061420131534"
            ]
          },
          "metadata": {},
          "execution_count": 55
        }
      ]
    },
    {
      "cell_type": "markdown",
      "source": [
        "> K-Nearest Neighbors"
      ],
      "metadata": {
        "id": "s7g_MfLNjcPo"
      }
    },
    {
      "cell_type": "code",
      "source": [
        "model4 = KNeighborsClassifier(n_neighbors=5)  # Initialize KNN with 5 neighbors\n",
        "model4.fit(X_train, y_train)  # Train the model on training data\n",
        "y_pred4 = model4.predict(X_test)  # Predict target values for test set\n",
        "accuracy4 = accuracy_score(y_test, y_pred4)  # Calculate model accuracy\n",
        "accuracy4"
      ],
      "metadata": {
        "id": "5kpwUBOWjkoO",
        "colab": {
          "base_uri": "https://localhost:8080/",
          "height": 0
        },
        "outputId": "6bb04a82-03d0-469d-fbb6-cf0bd78962ee"
      },
      "execution_count": 56,
      "outputs": [
        {
          "output_type": "execute_result",
          "data": {
            "text/plain": [
              "0.8918738156281351"
            ]
          },
          "metadata": {},
          "execution_count": 56
        }
      ]
    },
    {
      "cell_type": "markdown",
      "source": [
        "> Display Accuracies"
      ],
      "metadata": {
        "id": "l9FHReIPtzOq"
      }
    },
    {
      "cell_type": "code",
      "source": [
        "# Print the accuracy of all models\n",
        "print(\"Accuracy of Logistic Regression : \", accuracy1)\n",
        "print(\"Accuracy of SVM : \", accuracy2)\n",
        "print(\"Accuracy of Random Forest : \", accuracy3)\n",
        "print(\"Accuracy of K-Nearest Neighbors : \", accuracy4)"
      ],
      "metadata": {
        "colab": {
          "base_uri": "https://localhost:8080/",
          "height": 0
        },
        "id": "5pAal8KStGkR",
        "outputId": "613e02bf-acf2-4350-f8df-c87ae9110c63"
      },
      "execution_count": 57,
      "outputs": [
        {
          "output_type": "stream",
          "name": "stdout",
          "text": [
            "Accuracy of Logistic Regression :  0.899676736149816\n",
            "Accuracy of SVM :  0.899676736149816\n",
            "Accuracy of Random Forest :  0.9019061420131534\n",
            "Accuracy of K-Nearest Neighbors :  0.8918738156281351\n"
          ]
        }
      ]
    },
    {
      "cell_type": "markdown",
      "source": [
        "> *At first glance, all models seem to perform well, but accuracy alone can be misleading, especially in imbalanced datasets. A model might achieve high accuracy simply by predicting the majority class while failing to detect the minority class. To avoid such mistakes, it is important to use other metrics, such as Precision, Recall, F1-Score, and the Confusion Matrix, when evaluating a classification model*"
      ],
      "metadata": {
        "id": "VJePKRXit7fQ"
      }
    },
    {
      "cell_type": "markdown",
      "source": [
        "\n",
        "\n",
        "### 8. Model Evaluation"
      ],
      "metadata": {
        "id": "Kt9yu0jKkgl-"
      }
    },
    {
      "cell_type": "markdown",
      "source": [
        "> Since, our model is of classification type we will be using the following metrics to evaluate our model.\n",
        "\n",
        "* Confusion Matrix : The Confusion Matrix is a table that displays the performance of a classification model by showing the actual vs predicted labels. It consists of:\n",
        "  1. True Positives (TP): Correctly predicted positive cases.\n",
        "  2. True Negatives (TN): Correctly predicted negative cases.\n",
        "  3. False Positives (FP): Incorrectly predicted as positive.\n",
        "  4. False Negatives (FN): Incorrectly predicted as negative.\n",
        "  \n",
        "* Precison : Precision is the ratio of correct positive predictions to all predicted positive instances. It tells you how many of the predicted positive cases were actually correct.\n",
        "\n",
        "* Recall : Recall is the ratio of correct positive predictions to all actual positive instances. It measures how well the model identifies all positive cases.\n",
        "\n",
        "* F1-Score : F1-Score is the harmonic mean of Precision and Recall, balancing both metrics. It’s especially useful when the dataset has an uneven class distribution (e.g., when there are more negatives than positives).\n",
        "\n"
      ],
      "metadata": {
        "id": "sCsewbBAlSjm"
      }
    },
    {
      "cell_type": "markdown",
      "source": [
        "> Confusion Matrix"
      ],
      "metadata": {
        "id": "e0hyzFvToBiw"
      }
    },
    {
      "cell_type": "code",
      "source": [
        "# Store predictions from different models in a dictionary\n",
        "model_preds = {\n",
        "    \"Logistic Regression\" : y_pred1,\n",
        "    \"Support Vector Machine\" : y_pred2,\n",
        "    \"Random Forest\" : y_pred3,\n",
        "    \"K-Nearest Neighbors\": y_pred4\n",
        "}\n",
        "\n",
        "# Iterate through each model and plot its confusion matrix\n",
        "for model, pred in model_preds.items():\n",
        "    print(\"model : \", model)\n",
        "    print(confusion_matrix(y_test, pred))  # Display confusion matrix for each model\n",
        "    print('----------------------------')"
      ],
      "metadata": {
        "colab": {
          "base_uri": "https://localhost:8080/",
          "height": 0
        },
        "id": "d0BtWq72kmg-",
        "outputId": "ea11de03-4a46-46fa-dc10-4066f1a4ca6f"
      },
      "execution_count": 58,
      "outputs": [
        {
          "output_type": "stream",
          "name": "stdout",
          "text": [
            "model :  Logistic Regression\n",
            "[[8071    0]\n",
            " [ 900    0]]\n",
            "----------------------------\n",
            "model :  Support Vector Machine\n",
            "[[8071    0]\n",
            " [ 900    0]]\n",
            "----------------------------\n",
            "model :  Random Forest\n",
            "[[8071    0]\n",
            " [ 880   20]]\n",
            "----------------------------\n",
            "model :  K-Nearest Neighbors\n",
            "[[7992   79]\n",
            " [ 891    9]]\n",
            "----------------------------\n"
          ]
        }
      ]
    },
    {
      "cell_type": "markdown",
      "source": [
        "> As we suspected, accuracy alone was misleading. Despite some models showing seemingly high accuracy, their confusion matrices reveal significant shortcomings in detecting the minority class."
      ],
      "metadata": {
        "id": "-U0cXiuZ6zOY"
      }
    },
    {
      "cell_type": "markdown",
      "source": [
        "> Classification Report"
      ],
      "metadata": {
        "id": "jIA9TeM_7oXI"
      }
    },
    {
      "cell_type": "code",
      "source": [
        "# Iterate through each model and display its classification report\n",
        "for model, pred in model_preds.items():\n",
        "    print(\"model : \", model)\n",
        "    print(classification_report(y_test, pred, zero_division=0))  # Display classification report for each model\n",
        "    print('----------------------------')"
      ],
      "metadata": {
        "colab": {
          "base_uri": "https://localhost:8080/",
          "height": 0
        },
        "id": "mX7ifdw67s7R",
        "outputId": "1b084147-d633-403d-88da-3e71233a7ced"
      },
      "execution_count": 59,
      "outputs": [
        {
          "output_type": "stream",
          "name": "stdout",
          "text": [
            "model :  Logistic Regression\n",
            "              precision    recall  f1-score   support\n",
            "\n",
            "           0       0.90      1.00      0.95      8071\n",
            "           1       0.00      0.00      0.00       900\n",
            "\n",
            "    accuracy                           0.90      8971\n",
            "   macro avg       0.45      0.50      0.47      8971\n",
            "weighted avg       0.81      0.90      0.85      8971\n",
            "\n",
            "----------------------------\n",
            "model :  Support Vector Machine\n",
            "              precision    recall  f1-score   support\n",
            "\n",
            "           0       0.90      1.00      0.95      8071\n",
            "           1       0.00      0.00      0.00       900\n",
            "\n",
            "    accuracy                           0.90      8971\n",
            "   macro avg       0.45      0.50      0.47      8971\n",
            "weighted avg       0.81      0.90      0.85      8971\n",
            "\n",
            "----------------------------\n",
            "model :  Random Forest\n",
            "              precision    recall  f1-score   support\n",
            "\n",
            "           0       0.90      1.00      0.95      8071\n",
            "           1       1.00      0.02      0.04       900\n",
            "\n",
            "    accuracy                           0.90      8971\n",
            "   macro avg       0.95      0.51      0.50      8971\n",
            "weighted avg       0.91      0.90      0.86      8971\n",
            "\n",
            "----------------------------\n",
            "model :  K-Nearest Neighbors\n",
            "              precision    recall  f1-score   support\n",
            "\n",
            "           0       0.90      0.99      0.94      8071\n",
            "           1       0.10      0.01      0.02       900\n",
            "\n",
            "    accuracy                           0.89      8971\n",
            "   macro avg       0.50      0.50      0.48      8971\n",
            "weighted avg       0.82      0.89      0.85      8971\n",
            "\n",
            "----------------------------\n"
          ]
        }
      ]
    },
    {
      "cell_type": "markdown",
      "source": [
        ">The evaluation of the models shows that despite high accuracy, all models struggle to detect the minority class (class 1)."
      ],
      "metadata": {
        "id": "5S9SEi0r8kUH"
      }
    },
    {
      "cell_type": "markdown",
      "source": [
        "> Why is this happening ?\n",
        "\n",
        "* The dataset is highly imbalanced (8071 majority class vs. 900 minority class).\n",
        "\n",
        "* Most models are biased towards class 0, making them ineffective for detecting class 1.\n",
        "\n",
        "* Accuracy is misleading here (~90%) because it is mostly driven by correct class 0 predictions."
      ],
      "metadata": {
        "id": "y4TeaJmg9CgI"
      }
    },
    {
      "cell_type": "markdown",
      "source": [
        "> How to solve this issue ?\n",
        "\n",
        "> Answer : Below are some strategies we can try to solve such issues:"
      ],
      "metadata": {
        "id": "Z9DMI1FL9Slt"
      }
    },
    {
      "cell_type": "markdown",
      "source": [
        "1. Class Imbalance Handling:\n",
        "  * Resampling: Since it looks like the data might be imbalanced (a common issue in classification problems), try oversampling the minority class (positive class) or undersampling the majority class (negative class).\n",
        "    * Oversampling: Techniques like SMOTE (Synthetic Minority Over-sampling Technique) can generate synthetic samples for the minority class.\n",
        "    * Undersampling: Reduce the number of instances of the majority class to balance the dataset.\n",
        "  * Class Weights: Many algorithms, such as logistic regression, SVM, and random forests, have parameters to handle class weights. For example, you can assign a higher weight to the minority class to make the model pay more attention to it."
      ],
      "metadata": {
        "id": "3UO0WZnN_qeD"
      }
    },
    {
      "cell_type": "markdown",
      "source": [
        "2. Model Hyperparameter Tuning:\n",
        "* For models like Random Forest and SVM, adjusting hyperparameters can help improve the balance between precision and recall for each class.\n",
        "* For Random Forest, try tuning parameters like n_estimators, max_depth, and min_samples_split.\n",
        "* For SVM, you can experiment with the C parameter (which controls the trade-off between achieving a low error on the training set and a low-complexity model) and kernel choice."
      ],
      "metadata": {
        "id": "RmYRbIIP_tCM"
      }
    },
    {
      "cell_type": "markdown",
      "source": [
        "3. Try Different Algorithms:\n",
        "* Some models handle imbalanced data better than others. For instance, Gradient Boosting Machines (GBM) or XGBoost are generally more robust to imbalanced datasets. Try out different algorithms to see if they handle the imbalance better."
      ],
      "metadata": {
        "id": "TU-ExrgD_8hR"
      }
    },
    {
      "cell_type": "markdown",
      "source": [
        "4. Cross-validation:\n",
        "\n",
        "* Ensure you're using stratified k-fold cross-validation when evaluating the model to ensure that the proportion of positive and negative samples is similar across training and validation splits."
      ],
      "metadata": {
        "id": "Ai_OE91MAFXV"
      }
    },
    {
      "cell_type": "markdown",
      "source": [
        "# Part II"
      ],
      "metadata": {
        "id": "8aMzcj-NXZL9"
      }
    },
    {
      "cell_type": "markdown",
      "source": [
        "> This section of the workshop is for practice and should be completed after finishing Part I. The tasks are similar to those in Part I, but the dataset used here is different."
      ],
      "metadata": {
        "id": "-Cm67S-5Ny7t"
      }
    },
    {
      "cell_type": "markdown",
      "source": [
        "## Dataset 2 : *Workout Fitness Tracker*\n",
        "\n",
        "* About dataset\n",
        "\n",
        "> This dataset contains 10,000 records of workout and fitness-related data collected from various fitness apps and devices.\n",
        "\n",
        "> It is designed to help analyze and predict workout efficiency based on user activity, health metrics, and lifestyle factors.\n",
        "\n",
        "> Potential Use cases includes:\n",
        "\n",
        "1. Predicting Workout Efficiency based on different metrics.\n",
        "\n",
        "2. Analyzing the impact of sleep and nutrition on workout performance.\n",
        "\n",
        "3. Finding correlations between heart rate, workout type, and calories burned.\n",
        "\n",
        "4. Developing AI/ML models to suggest personalized workout plans.\n",
        "\n",
        "5. Tracking fitness habits and their effect on mood.\n",
        "\n",
        "> Dataset features\n",
        "\n",
        "1. *User ID*: Unique identifier for each user\n",
        "2. *Age*: User’s age (18-60 years)\n",
        "3. *Gender*: Male, Female, Other\n",
        "4. *Height (cm)*: User’s height in centimeters\n",
        "5. *Weight (kg)*: User’s weight in kilograms\n",
        "6. *Workout Type*: Type of workout (Cardio, Strength, Yoga, HIIT, Cycling, Running)\n",
        "7. *Workout Duration (mins)*: Total time spent in workout\n",
        "8. *Calories Burned*: Total calories burned during workout\n",
        "9. *Heart Rate (bpm)*: Average heart rate during the workout\n",
        "10. *Steps Taken*: Number of steps recorded (for walking/running workouts)\n",
        "11. *Distance (km)*: Distance covered in kilometers\n",
        "12. *Workout Intensity*: Low, Medium, High\n",
        "13. *Sleep Hours*: Hours of sleep before the workout\n",
        "14. *Water Intake (liters)*: Water consumed in liters\n",
        "15. *Daily Calories Intake*: Total calories consumed in a day\n",
        "16. *Resting Heart Rate (bpm)*: Heart rate when at rest\n",
        "17. *VO2 Max*: Oxygen consumption capacity (indicator of cardiovascular fitness)\n",
        "18. *Body Fat (%)*: Estimated body fat percentage\n",
        "19. *Mood Before Workout*: Mood before the workout (Happy, Neutral, Tired, Stressed)\n",
        "20. *Mood After Workout*: Mood after the workout (Energized, Neutral, Fatigued)"
      ],
      "metadata": {
        "id": "gzNS9ddxXQUe"
      }
    },
    {
      "cell_type": "markdown",
      "source": [
        "### 1. Load Dataset"
      ],
      "metadata": {
        "id": "2ZihlE3AOar7"
      }
    },
    {
      "cell_type": "code",
      "source": [
        "df = pd.read_csv(\"/content/drive/MyDrive/BigData/Week 2/Data And Code Outline/workout_fitness_tracker_data.csv\")"
      ],
      "metadata": {
        "id": "_QdRvyM9OfQF"
      },
      "execution_count": 60,
      "outputs": []
    },
    {
      "cell_type": "markdown",
      "source": [
        "2. Data Analysis"
      ],
      "metadata": {
        "id": "EPsQN86oOf3d"
      }
    },
    {
      "cell_type": "code",
      "source": [
        "import pandas as pd\n",
        "\n",
        "print(df.head())\n",
        "print(df.info())\n",
        "print(df.describe())\n"
      ],
      "metadata": {
        "id": "iz8i6lcDPq33",
        "colab": {
          "base_uri": "https://localhost:8080/",
          "height": 0
        },
        "outputId": "d9924457-87d1-42b6-bf92-1882f687ff49"
      },
      "execution_count": 61,
      "outputs": [
        {
          "output_type": "stream",
          "name": "stdout",
          "text": [
            "   User ID  Age  Gender  Height (cm)  Weight (kg) Workout Type  \\\n",
            "0        1   39    Male          175           99      Cycling   \n",
            "1        2   36   Other          157          112       Cardio   \n",
            "2        3   25  Female          180           66         HIIT   \n",
            "3        4   56    Male          154           89      Cycling   \n",
            "4        5   53   Other          194           59     Strength   \n",
            "\n",
            "   Workout Duration (mins)  Calories Burned  Heart Rate (bpm)  Steps Taken  \\\n",
            "0                       79              384               112         8850   \n",
            "1                       73              612               168         2821   \n",
            "2                       27              540               133        18898   \n",
            "3                       39              672               118        14102   \n",
            "4                       56              410               170        16518   \n",
            "\n",
            "   Distance (km) Workout Intensity  Sleep Hours  Water Intake (liters)  \\\n",
            "0          14.44              High          8.2                    1.9   \n",
            "1           1.10              High          8.6                    1.9   \n",
            "2           7.28              High          9.8                    1.9   \n",
            "3           6.55            Medium          5.8                    1.9   \n",
            "4           3.17            Medium          7.3                    1.9   \n",
            "\n",
            "   Daily Calories Intake  Resting Heart Rate (bpm)  VO2 Max  Body Fat (%)  \\\n",
            "0                   3195                        61     38.4          28.5   \n",
            "1                   2541                        73     38.4          28.5   \n",
            "2                   3362                        80     38.4          28.5   \n",
            "3                   2071                        65     38.4          28.5   \n",
            "4                   3298                        59     38.4          28.5   \n",
            "\n",
            "  Mood Before Workout Mood After Workout  \n",
            "0               Tired           Fatigued  \n",
            "1               Happy          Energized  \n",
            "2               Happy           Fatigued  \n",
            "3             Neutral            Neutral  \n",
            "4            Stressed          Energized  \n",
            "<class 'pandas.core.frame.DataFrame'>\n",
            "RangeIndex: 10000 entries, 0 to 9999\n",
            "Data columns (total 20 columns):\n",
            " #   Column                    Non-Null Count  Dtype  \n",
            "---  ------                    --------------  -----  \n",
            " 0   User ID                   10000 non-null  int64  \n",
            " 1   Age                       10000 non-null  int64  \n",
            " 2   Gender                    10000 non-null  object \n",
            " 3   Height (cm)               10000 non-null  int64  \n",
            " 4   Weight (kg)               10000 non-null  int64  \n",
            " 5   Workout Type              10000 non-null  object \n",
            " 6   Workout Duration (mins)   10000 non-null  int64  \n",
            " 7   Calories Burned           10000 non-null  int64  \n",
            " 8   Heart Rate (bpm)          10000 non-null  int64  \n",
            " 9   Steps Taken               10000 non-null  int64  \n",
            " 10  Distance (km)             10000 non-null  float64\n",
            " 11  Workout Intensity         10000 non-null  object \n",
            " 12  Sleep Hours               10000 non-null  float64\n",
            " 13  Water Intake (liters)     10000 non-null  float64\n",
            " 14  Daily Calories Intake     10000 non-null  int64  \n",
            " 15  Resting Heart Rate (bpm)  10000 non-null  int64  \n",
            " 16  VO2 Max                   10000 non-null  float64\n",
            " 17  Body Fat (%)              10000 non-null  float64\n",
            " 18  Mood Before Workout       10000 non-null  object \n",
            " 19  Mood After Workout        10000 non-null  object \n",
            "dtypes: float64(5), int64(10), object(5)\n",
            "memory usage: 1.5+ MB\n",
            "None\n",
            "           User ID           Age   Height (cm)   Weight (kg)  \\\n",
            "count  10000.00000  10000.000000  10000.000000  10000.000000   \n",
            "mean    5000.50000     38.390100    174.275100     84.903000   \n",
            "std     2886.89568     12.171637     14.440986     20.189937   \n",
            "min        1.00000     18.000000    150.000000     50.000000   \n",
            "25%     2500.75000     28.000000    162.000000     67.000000   \n",
            "50%     5000.50000     38.000000    174.000000     85.000000   \n",
            "75%     7500.25000     49.000000    187.000000    102.000000   \n",
            "max    10000.00000     59.000000    199.000000    119.000000   \n",
            "\n",
            "       Workout Duration (mins)  Calories Burned  Heart Rate (bpm)  \\\n",
            "count             10000.000000     10000.000000      10000.000000   \n",
            "mean                 64.464800       552.100800        129.526700   \n",
            "std                  31.814946       260.629908         28.874152   \n",
            "min                  10.000000       100.000000         80.000000   \n",
            "25%                  37.000000       325.000000        105.000000   \n",
            "50%                  64.000000       554.000000        130.000000   \n",
            "75%                  92.000000       776.000000        155.000000   \n",
            "max                 119.000000       999.000000        179.000000   \n",
            "\n",
            "        Steps Taken  Distance (km)   Sleep Hours  Water Intake (liters)  \\\n",
            "count  10000.000000   10000.000000  10000.000000           1.000000e+04   \n",
            "mean   10455.496600       7.820745      6.982820           1.900000e+00   \n",
            "std     5486.423716       4.159148      1.708738           2.109529e-14   \n",
            "min     1000.000000       0.500000      4.000000           1.900000e+00   \n",
            "25%     5673.000000       4.240000      5.500000           1.900000e+00   \n",
            "50%    10434.500000       7.850000      7.000000           1.900000e+00   \n",
            "75%    15211.000000      11.410000      8.400000           1.900000e+00   \n",
            "max    19998.000000      15.000000     10.000000           1.900000e+00   \n",
            "\n",
            "       Daily Calories Intake  Resting Heart Rate (bpm)       VO2 Max  \\\n",
            "count           10000.000000              10000.000000  1.000000e+04   \n",
            "mean             2748.428800                 69.486500  3.840000e+01   \n",
            "std               717.109026                 11.566763  4.590336e-12   \n",
            "min              1500.000000                 50.000000  3.840000e+01   \n",
            "25%              2124.000000                 60.000000  3.840000e+01   \n",
            "50%              2753.000000                 69.000000  3.840000e+01   \n",
            "75%              3360.000000                 80.000000  3.840000e+01   \n",
            "max              3999.000000                 89.000000  3.840000e+01   \n",
            "\n",
            "       Body Fat (%)  \n",
            "count       10000.0  \n",
            "mean           28.5  \n",
            "std             0.0  \n",
            "min            28.5  \n",
            "25%            28.5  \n",
            "50%            28.5  \n",
            "75%            28.5  \n",
            "max            28.5  \n"
          ]
        }
      ]
    },
    {
      "cell_type": "markdown",
      "source": [
        "### 3. CLeaning Data"
      ],
      "metadata": {
        "id": "lUP-JCtROke8"
      }
    },
    {
      "cell_type": "code",
      "source": [
        "# Check missing values\n",
        "print(df.isnull().sum())\n"
      ],
      "metadata": {
        "id": "rUllWw8UOq8b",
        "colab": {
          "base_uri": "https://localhost:8080/",
          "height": 0
        },
        "outputId": "b4d344d8-3919-4d2a-c785-16b5bb165042"
      },
      "execution_count": 62,
      "outputs": [
        {
          "output_type": "stream",
          "name": "stdout",
          "text": [
            "User ID                     0\n",
            "Age                         0\n",
            "Gender                      0\n",
            "Height (cm)                 0\n",
            "Weight (kg)                 0\n",
            "Workout Type                0\n",
            "Workout Duration (mins)     0\n",
            "Calories Burned             0\n",
            "Heart Rate (bpm)            0\n",
            "Steps Taken                 0\n",
            "Distance (km)               0\n",
            "Workout Intensity           0\n",
            "Sleep Hours                 0\n",
            "Water Intake (liters)       0\n",
            "Daily Calories Intake       0\n",
            "Resting Heart Rate (bpm)    0\n",
            "VO2 Max                     0\n",
            "Body Fat (%)                0\n",
            "Mood Before Workout         0\n",
            "Mood After Workout          0\n",
            "dtype: int64\n"
          ]
        }
      ]
    },
    {
      "cell_type": "markdown",
      "source": [
        "`### 4. Data Visualisation`"
      ],
      "metadata": {
        "id": "3HUAYk-1Orln"
      }
    },
    {
      "cell_type": "code",
      "source": [
        "import matplotlib.pyplot as plt\n",
        "import seaborn as sns\n",
        "\n",
        "# Plotting the distribution of Age using a histogram\n",
        "plt.figure(figsize=(8, 5))\n",
        "sns.histplot(df['Age'], bins=15, kde=True, color='lightcoral')\n",
        "\n",
        "# Title and axis labels\n",
        "plt.title(\"Age Distribution of Users\")\n",
        "plt.xlabel(\"Age (years)\")\n",
        "plt.ylabel(\"Frequency\")\n",
        "\n",
        "# Display the plot\n",
        "plt.show()\n"
      ],
      "metadata": {
        "id": "qZNnCf7FOunE",
        "colab": {
          "base_uri": "https://localhost:8080/",
          "height": 487
        },
        "collapsed": true,
        "outputId": "94f3615f-280f-4e8a-b6b0-0b73959ed62a"
      },
      "execution_count": 63,
      "outputs": [
        {
          "output_type": "display_data",
          "data": {
            "text/plain": [
              "<Figure size 800x500 with 1 Axes>"
            ],
            "image/png": "[encoded data removed]"
          },
          "metadata": {}
        }
      ]
    },
    {
      "cell_type": "code",
      "source": [
        "plt.figure(figsize=(12, 8))\n",
        "numeric_df = df.select_dtypes(include=['float64', 'int64'])\n",
        "\n",
        "# Compute the correlation matrix\n",
        "correlation_matrix = numeric_df.corr()\n",
        "\n",
        "# Plotting the heatmap\n",
        "sns.heatmap(correlation_matrix, annot=True, cmap='viridis', fmt='.2f', linewidths=0.5)\n",
        "\n",
        "# Title for the heatmap\n",
        "plt.title('Correlation Heatmap of Fitness Data')\n",
        "\n",
        "# Display the plot\n",
        "plt.show()\n"
      ],
      "metadata": {
        "colab": {
          "base_uri": "https://localhost:8080/",
          "height": 735
        },
        "collapsed": true,
        "id": "jlrgo96cfyJF",
        "outputId": "4c420e4e-fc22-455f-f85b-233ce13bbf67"
      },
      "execution_count": 64,
      "outputs": [
        {
          "output_type": "display_data",
          "data": {
            "text/plain": [
              "<Figure size 1200x800 with 2 Axes>"
            ],
            "image/png": "[encoded data removed]"
          },
          "metadata": {}
        }
      ]
    },
    {
      "cell_type": "markdown",
      "source": [
        "### 6. Model Building\n",
        "\n",
        "In this section, we'll focus on building a predictive model using the 'Workout Efficiency' as our target variable. The goal is to predict the overall effectiveness of a user's workout based on various features such as workout type, duration, intensity, heart rate, sleep hours, water intake, and other health metrics."
      ],
      "metadata": {
        "id": "6XfjXDcdO9jI"
      }
    },
    {
      "cell_type": "code",
      "source": [
        "import pandas as pd\n",
        "import numpy as np\n",
        "import seaborn as sns\n",
        "import matplotlib.pyplot as plt\n",
        "from sklearn.model_selection import train_test_split\n",
        "from sklearn.preprocessing import LabelEncoder, StandardScaler\n",
        "from sklearn.linear_model import LinearRegression\n",
        "from sklearn.ensemble import RandomForestRegressor\n",
        "from sklearn.svm import SVR\n",
        "from sklearn.neighbors import KNeighborsRegressor\n",
        "from sklearn.metrics import mean_squared_error, r2_score\n",
        "\n",
        "# Load Dataset\n",
        "df = pd.read_csv(\"/content/drive/MyDrive/BigData/Week 2/Data And Code Outline/workout_fitness_tracker_data.csv\")\n",
        "\n",
        "# Encode categorical variables\n",
        "label_encoder = LabelEncoder()\n",
        "df['Gender'] = label_encoder.fit_transform(df['Gender'])\n",
        "df['Workout Type'] = label_encoder.fit_transform(df['Workout Type'])\n",
        "df['Workout Intensity'] = label_encoder.fit_transform(df['Workout Intensity'])\n",
        "df['Mood Before Workout'] = label_encoder.fit_transform(df['Mood Before Workout'])\n",
        "df['Mood After Workout'] = label_encoder.fit_transform(df['Mood After Workout'])\n",
        "\n",
        "# Select Features & Target\n",
        "X = df.drop(columns=['User ID', 'Calories Burned'])  # Remove User ID (not useful)\n",
        "y = df['Calories Burned']\n",
        "\n",
        "# Standardize numerical features\n",
        "scaler = StandardScaler()\n",
        "X = scaler.fit_transform(X)\n",
        "\n",
        "# Split into training and testing sets\n",
        "X_train, X_test, y_train, y_test = train_test_split(X, y, test_size=0.2, random_state=42)\n",
        "\n",
        "# Print dataset shape\n",
        "print(f\"X_train shape: {X_train.shape}, X_test shape: {X_test.shape}\")\n",
        "print(f\"y_train shape: {y_train.shape}, y_test shape: {y_test.shape}\")\n"
      ],
      "metadata": {
        "id": "aYHWIDgDl5Vb",
        "colab": {
          "base_uri": "https://localhost:8080/",
          "height": 0
        },
        "outputId": "7fad4fe9-0583-4180-e49d-4327821ef940"
      },
      "execution_count": 68,
      "outputs": [
        {
          "output_type": "stream",
          "name": "stdout",
          "text": [
            "X_train shape: (8000, 18), X_test shape: (2000, 18)\n",
            "y_train shape: (8000,), y_test shape: (2000,)\n"
          ]
        }
      ]
    },
    {
      "cell_type": "markdown",
      "source": [
        "**Linear Regression**\n"
      ],
      "metadata": {
        "id": "wT2sg3WciYpC"
      }
    },
    {
      "cell_type": "code",
      "source": [
        "# Train Linear Regression\n",
        "lr_model = LinearRegression()\n",
        "lr_model.fit(X_train, y_train)\n",
        "y_pred_lr = lr_model.predict(X_test)\n",
        "\n",
        "# Evaluate\n",
        "mse_lr = mean_squared_error(y_test, y_pred_lr)\n",
        "r2_lr = r2_score(y_test, y_pred_lr)\n",
        "print(f\"Linear Regression - MSE: {mse_lr}, R2 Score: {r2_lr}\")\n"
      ],
      "metadata": {
        "colab": {
          "base_uri": "https://localhost:8080/",
          "height": 0
        },
        "id": "stSD7f0KiZS5",
        "outputId": "7ce6a1cb-7341-4792-92e0-f12442f4f666"
      },
      "execution_count": 69,
      "outputs": [
        {
          "output_type": "stream",
          "name": "stdout",
          "text": [
            "Linear Regression - MSE: 68957.7065421426, R2 Score: -0.004772122871758766\n"
          ]
        }
      ]
    },
    {
      "cell_type": "markdown",
      "source": [
        "**Support Vector Regression(SVR)**"
      ],
      "metadata": {
        "id": "QRjjeyODvIr6"
      }
    },
    {
      "cell_type": "code",
      "source": [
        "# Train Support Vector Regressor\n",
        "svr_model = SVR(kernel='rbf')\n",
        "svr_model.fit(X_train, y_train)\n",
        "y_pred_svr = svr_model.predict(X_test)\n",
        "\n",
        "# Evaluate\n",
        "mse_svr = mean_squared_error(y_test, y_pred_svr)\n",
        "r2_svr = r2_score(y_test, y_pred_svr)\n",
        "print(f\"SVR - MSE: {mse_svr}, R2 Score: {r2_svr}\")\n"
      ],
      "metadata": {
        "colab": {
          "base_uri": "https://localhost:8080/",
          "height": 0
        },
        "id": "IosJiPqyvG0D",
        "outputId": "46f662f1-f557-4a1e-9a8f-bdc4dec2af8f"
      },
      "execution_count": 70,
      "outputs": [
        {
          "output_type": "stream",
          "name": "stdout",
          "text": [
            "SVR - MSE: 68799.55008795473, R2 Score: -0.002467649533117511\n"
          ]
        }
      ]
    },
    {
      "cell_type": "markdown",
      "source": [
        "**Random Forest Regressor**"
      ],
      "metadata": {
        "id": "jc7FUSQrvP9R"
      }
    },
    {
      "cell_type": "code",
      "source": [
        "# Train Random Forest Regressor\n",
        "rf_model = RandomForestRegressor(n_estimators=100, random_state=42)\n",
        "rf_model.fit(X_train, y_train)\n",
        "y_pred_rf = rf_model.predict(X_test)\n",
        "\n",
        "# Evaluate\n",
        "mse_rf = mean_squared_error(y_test, y_pred_rf)\n",
        "r2_rf = r2_score(y_test, y_pred_rf)\n",
        "print(f\"Random Forest Regressor - MSE: {mse_rf}, R2 Score: {r2_rf}\")\n"
      ],
      "metadata": {
        "colab": {
          "base_uri": "https://localhost:8080/",
          "height": 0
        },
        "id": "CpGmBHsFvQg5",
        "outputId": "158e4540-2318-46c1-9484-16df8491a969"
      },
      "execution_count": 74,
      "outputs": [
        {
          "output_type": "stream",
          "name": "stdout",
          "text": [
            "Random Forest Regressor - MSE: 70326.41488595, R2 Score: -0.024715361374901157\n"
          ]
        }
      ]
    },
    {
      "cell_type": "markdown",
      "source": [
        "**K-Nearest Neighbors Regressor**\n"
      ],
      "metadata": {
        "id": "u76nhtoVvXIM"
      }
    },
    {
      "cell_type": "code",
      "source": [
        "# Train KNN Regressor\n",
        "knn_model = KNeighborsRegressor(n_neighbors=5)\n",
        "knn_model.fit(X_train, y_train)\n",
        "y_pred_knn = knn_model.predict(X_test)\n",
        "\n",
        "# Evaluate\n",
        "mse_knn = mean_squared_error(y_test, y_pred_knn)\n",
        "r2_knn = r2_score(y_test, y_pred_knn)\n",
        "print(f\"KNN Regressor - MSE: {mse_knn}, R2 Score: {r2_knn}\")\n"
      ],
      "metadata": {
        "colab": {
          "base_uri": "https://localhost:8080/",
          "height": 0
        },
        "id": "117syP6wvWM4",
        "outputId": "24a2ebbb-ab14-41b0-8227-cc2c6976e9a5"
      },
      "execution_count": 75,
      "outputs": [
        {
          "output_type": "stream",
          "name": "stdout",
          "text": [
            "KNN Regressor - MSE: 82075.45928, R2 Score: -0.19590887794450484\n"
          ]
        }
      ]
    },
    {
      "cell_type": "markdown",
      "source": [
        "### 7. Model Evaluation"
      ],
      "metadata": {
        "id": "YjH6b-jTPEaf"
      }
    },
    {
      "cell_type": "code",
      "source": [
        "# Store results in a dictionary\n",
        "model_results = {\n",
        "    \"Linear Regression\": (mse_lr, r2_lr),\n",
        "    \"Support Vector Regression\": (mse_svr, r2_svr),\n",
        "    \"Random Forest Regressor\": (mse_rf, r2_rf),\n",
        "    \"KNN Regressor\": (mse_knn, r2_knn),\n",
        "}\n",
        "\n",
        "# Print results\n",
        "print(\"\\nModel Performance Comparison:\")\n",
        "for model, (mse, r2) in model_results.items():\n",
        "    print(f\"{model} -> MSE: {mse:.4f}, R2 Score: {r2:.4f}\")\n"
      ],
      "metadata": {
        "colab": {
          "base_uri": "https://localhost:8080/",
          "height": 0
        },
        "id": "13ZxRimnvoEK",
        "outputId": "2a437978-92a1-4fbf-dd3e-a211ff87b643"
      },
      "execution_count": 77,
      "outputs": [
        {
          "output_type": "stream",
          "name": "stdout",
          "text": [
            "\n",
            "Model Performance Comparison:\n",
            "Linear Regression -> MSE: 68957.7065, R2 Score: -0.0048\n",
            "Support Vector Regression -> MSE: 68799.5501, R2 Score: -0.0025\n",
            "Random Forest Regressor -> MSE: 70326.4149, R2 Score: -0.0247\n",
            "KNN Regressor -> MSE: 82075.4593, R2 Score: -0.1959\n"
          ]
        }
      ]
    }
  ]
}